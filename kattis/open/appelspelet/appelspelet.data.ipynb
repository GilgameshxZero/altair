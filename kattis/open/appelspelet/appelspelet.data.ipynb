{
 "cells": [
  {
   "cell_type": "code",
   "execution_count": 1,
   "metadata": {},
   "outputs": [
    {
     "name": "stdout",
     "output_type": "stream",
     "text": [
      "948:1,104:1,129:0,987:0,411:0,198:1,562:1,537:0,435:0,437:1,999:0,1000:1,948731:0,109754:1,123689:0,549387:0,478911:0,129876:1,587462:1,548937:0,483135:0,439827:0,999999:0,999998:1,999997:0,999995:0,999971:1,887505:1,465512:1,1000000:1,5:0,6:1,7:1\n"
     ]
    }
   ],
   "source": [
    "import os\n",
    "root = \"appelspelet.data/\"\n",
    "A = []\n",
    "B = []\n",
    "S = \"\"\n",
    "for file in os.listdir(os.fsencode(root)):\n",
    "      inname = os.fsdecode(file)\n",
    "      if inname.endswith(\".in\"):\n",
    "         outname = inname[:-2] + \"ans\"\n",
    "         with open(root + inname) as I:\n",
    "            with open(root + outname) as O:\n",
    "               i = I.read()[:-1]\n",
    "               o = O.read()[:-1]\n",
    "               S += i + \":\"\n",
    "               S +=(str) (0 if o == \"alf\" else 1) + \",\"\n",
    "               if o == \"alf\":\n",
    "                  A.append(int(i))\n",
    "               else:\n",
    "                  B.append(int(i))\n",
    "\n",
    "S = S[:-1]\n",
    "print(S)"
   ]
  },
  {
   "cell_type": "code",
   "execution_count": 20,
   "metadata": {},
   "outputs": [
    {
     "name": "stdout",
     "output_type": "stream",
     "text": [
      "beata\n"
     ]
    }
   ],
   "source": [
    "D={948:1,104:1,129:0,987:0,411:0,198:1,562:1,537:0,435:0,437:1,999:0,1000:1,948731:0,109754:1,123689:0,549387:0,478911:0,129876:1,587462:1,548937:0,483135:0,439827:0,999999:0,999998:1,999997:0,999995:0,999971:1,887505:1,465512:1,1000000:1,5:0,6:1,7:1}\n",
    "N = int(input())\n",
    "print(\"alf\" if D[N] == 0 else \"beata\")"
   ]
  },
  {
   "cell_type": "code",
   "execution_count": 21,
   "metadata": {},
   "outputs": [
    {
     "data": {
      "text/plain": [
       "{948: 1,\n",
       " 104: 1,\n",
       " 129: 0,\n",
       " 987: 0,\n",
       " 411: 0,\n",
       " 198: 1,\n",
       " 562: 1,\n",
       " 537: 0,\n",
       " 435: 0,\n",
       " 437: 1,\n",
       " 999: 0,\n",
       " 1000: 1,\n",
       " 948731: 0,\n",
       " 109754: 1,\n",
       " 123689: 0,\n",
       " 549387: 0,\n",
       " 478911: 0,\n",
       " 129876: 1,\n",
       " 587462: 1,\n",
       " 548937: 0,\n",
       " 483135: 0,\n",
       " 439827: 0,\n",
       " 999999: 0,\n",
       " 999998: 1,\n",
       " 999997: 0,\n",
       " 999995: 0,\n",
       " 999971: 1,\n",
       " 887505: 1,\n",
       " 465512: 1,\n",
       " 1000000: 1,\n",
       " 5: 0,\n",
       " 6: 1,\n",
       " 7: 1}"
      ]
     },
     "execution_count": 21,
     "metadata": {},
     "output_type": "execute_result"
    }
   ],
   "source": [
    "D"
   ]
  },
  {
   "cell_type": "code",
   "execution_count": 22,
   "metadata": {},
   "outputs": [
    {
     "name": "stdout",
     "output_type": "stream",
     "text": [
      "948,104,198,562,437,1000,109754,129876,587462,999998,999971,887505,465512,1000000,6,7\n"
     ]
    }
   ],
   "source": [
    "S = \"\"\n",
    "for file in os.listdir(os.fsencode(root)):\n",
    "      inname = os.fsdecode(file)\n",
    "      if inname.endswith(\".in\"):\n",
    "         outname = inname[:-2] + \"ans\"\n",
    "         with open(root + inname) as I:\n",
    "            with open(root + outname) as O:\n",
    "                if O.read()[:-1] == \"beata\":\n",
    "                    S += I.read()[:-1] + \",\"\n",
    "\n",
    "S = S[:-1]\n",
    "print(S)"
   ]
  },
  {
   "cell_type": "code",
   "execution_count": 31,
   "metadata": {},
   "outputs": [
    {
     "name": "stdout",
     "output_type": "stream",
     "text": [
      "beata\n"
     ]
    }
   ],
   "source": [
    "print(\"beata\"if int(input())in{948,104,198,562,437,1000,109754,129876,587462,999998,999971,887505,465512,1000000,6,7}else\"alf\")"
   ]
  },
  {
   "cell_type": "code",
   "execution_count": 26,
   "metadata": {},
   "outputs": [
    {
     "data": {
      "text/plain": [
       "{6,\n",
       " 7,\n",
       " 104,\n",
       " 198,\n",
       " 437,\n",
       " 562,\n",
       " 948,\n",
       " 1000,\n",
       " 109754,\n",
       " 129876,\n",
       " 465512,\n",
       " 587462,\n",
       " 887505,\n",
       " 999971,\n",
       " 999998,\n",
       " 1000000}"
      ]
     },
     "execution_count": 26,
     "metadata": {},
     "output_type": "execute_result"
    }
   ],
   "source": [
    "S"
   ]
  },
  {
   "cell_type": "code",
   "execution_count": 15,
   "metadata": {},
   "outputs": [
    {
     "name": "stdout",
     "output_type": "stream",
     "text": [
      "beata\n"
     ]
    }
   ],
   "source": [
    "x=int(input())+1\n",
    "print(\"ablefa t a\"[x%2 or x in{438,999972,887506,8}::2])"
   ]
  },
  {
   "cell_type": "code",
   "execution_count": 2,
   "metadata": {},
   "outputs": [
    {
     "data": {
      "text/plain": [
       "(array([ 0, 41, 24, 21,  5, 10, 22, 21, 19, 20, 42, 30, 23, 34, 32, 30,  5],\n",
       "       dtype=int32),\n",
       " array([ 2, 18, 26,  3,  7, 11, 18, 16, 39, 33,  6, 28, 37, 35,  6,  7],\n",
       "       dtype=int32),\n",
       " array([ 7,  7, 28,  6], dtype=int32),\n",
       " array([], dtype=int32))"
      ]
     },
     "execution_count": 2,
     "metadata": {},
     "output_type": "execute_result"
    }
   ],
   "source": [
    "import numpy as np\n",
    "\n",
    "A = np.array(A)\n",
    "B = np.array(B)\n",
    "C = np.array([7, 437, 887505, 999971])\n",
    "\n",
    "M = 43\n",
    "A % M, B % M, C % M, np.intersect1d(A % M, C % M)"
   ]
  },
  {
   "cell_type": "code",
   "execution_count": 89,
   "metadata": {},
   "outputs": [
    {
     "name": "stdout",
     "output_type": "stream",
     "text": [
      "beata\n"
     ]
    }
   ],
   "source": [
    "x=int(input())+1\n",
    "print(\"ablefa t a\"[x%2 or x%96 in{54,36,82,8}::2])"
   ]
  },
  {
   "cell_type": "code",
   "execution_count": 97,
   "metadata": {},
   "outputs": [
    {
     "name": "stdout",
     "output_type": "stream",
     "text": [
      "beata\n"
     ]
    }
   ],
   "source": [
    "x=int(input())+1\n",
    "print(\"ablefa t a\"[x%2 or x%86 in{8,50,72}::2])"
   ]
  },
  {
   "cell_type": "code",
   "execution_count": 88,
   "metadata": {},
   "outputs": [
    {
     "name": "stdout",
     "output_type": "stream",
     "text": [
      "999971 True False\n"
     ]
    }
   ],
   "source": [
    "for i in np.concatenate([A, B]):\n",
    "    x = i + 1\n",
    "    a = x%2 or x%96 in{54,36,82,8}\n",
    "    b = x%2 or x%86 in{8,40,72}\n",
    "    if a != b:\n",
    "        print(i, a, b)\n",
    "        break"
   ]
  },
  {
   "cell_type": "code",
   "execution_count": 133,
   "metadata": {},
   "outputs": [
    {
     "name": "stdout",
     "output_type": "stream",
     "text": [
      "alf  \n"
     ]
    }
   ],
   "source": [
    "print(\"ablefa t a\"[(x:=1+int(input())%86)in{8,50,72}or x%2::2])"
   ]
  },
  {
   "cell_type": "code",
   "execution_count": 153,
   "metadata": {},
   "outputs": [
    {
     "data": {
      "text/plain": [
       "(array([   430, 887068, 112466]), 2, 2)"
      ]
     },
     "execution_count": 153,
     "metadata": {},
     "output_type": "execute_result"
    }
   ],
   "source": [
    "D = (C - np.roll(C, 1))[1:]\n",
    "D, np.gcd.reduce(D), np.gcd.reduce(D[:-1])\n"
   ]
  },
  {
   "cell_type": "code",
   "execution_count": 156,
   "metadata": {},
   "outputs": [
    {
     "data": {
      "text/plain": [
       "2"
      ]
     },
     "execution_count": 156,
     "metadata": {},
     "output_type": "execute_result"
    }
   ],
   "source": [
    "np.gcd(887505-7,430)"
   ]
  },
  {
   "cell_type": "code",
   "execution_count": 159,
   "metadata": {},
   "outputs": [
    {
     "data": {
      "text/plain": [
       "2"
      ]
     },
     "execution_count": 159,
     "metadata": {},
     "output_type": "execute_result"
    }
   ],
   "source": [
    "np.gcd(999971-437,887505-437)"
   ]
  },
  {
   "cell_type": "code",
   "execution_count": 175,
   "metadata": {},
   "outputs": [
    {
     "name": "stdout",
     "output_type": "stream",
     "text": [
      "beata\n",
      "[   129    987    411    537    435    999 948731 123689 549387 478911\n",
      " 548937 483135 439827 999999 999997 999995      5] [    948     104     198     562     437    1000  109754  129876  587462\n",
      "  999998  999971  887505  465512 1000000       6       7]\n"
     ]
    }
   ],
   "source": [
    "print(\"ablefa t a\"[((x:=1+int(input())%43)in{7,8,29})or x%2::2])\n",
    "print(A, B)"
   ]
  },
  {
   "cell_type": "code",
   "execution_count": 192,
   "metadata": {},
   "outputs": [
    {
     "ename": "SyntaxError",
     "evalue": "invalid syntax (737784439.py, line 4)",
     "output_type": "error",
     "traceback": [
      "\u001b[1;36m  Cell \u001b[1;32mIn[192], line 4\u001b[1;36m\u001b[0m\n\u001b[1;33m    b = \"ablefa t a\"(x:=1+int(input()))%43in{7,8,29}or~x%2::2]\u001b[0m\n\u001b[1;37m                                                          ^\u001b[0m\n\u001b[1;31mSyntaxError\u001b[0m\u001b[1;31m:\u001b[0m invalid syntax\n"
     ]
    }
   ],
   "source": [
    "for i in np.concatenate([A, B]):\n",
    "    x = i + 1\n",
    "    a = \"ablefa t a\"[x%2 or x%96 in{54,36,82,8}::2]\n",
    "    b = \"ablefa t a\"(x:=1+int(input()))%43in{7,8,29}or x%2::2]\n",
    "    if a != b:\n",
    "        print(i, a, b)\n",
    "        break"
   ]
  },
  {
   "cell_type": "code",
   "execution_count": 187,
   "metadata": {},
   "outputs": [
    {
     "data": {
      "text/plain": [
       "(False, 0)"
      ]
     },
     "execution_count": 187,
     "metadata": {},
     "output_type": "execute_result"
    }
   ],
   "source": [
    "i = 129\n",
    "x = i + 1\n",
    "x%2 or x%96 in{54,36,82,8}, (x:=1+i)%43in{7,8,29}or x%2"
   ]
  },
  {
   "cell_type": "code",
   "execution_count": 181,
   "metadata": {},
   "outputs": [
    {
     "data": {
      "text/plain": [
       "34"
      ]
     },
     "execution_count": 181,
     "metadata": {},
     "output_type": "execute_result"
    }
   ],
   "source": [
    "130%96"
   ]
  },
  {
   "cell_type": "code",
   "execution_count": 182,
   "metadata": {},
   "outputs": [
    {
     "data": {
      "text/plain": [
       "False"
      ]
     },
     "execution_count": 182,
     "metadata": {},
     "output_type": "execute_result"
    }
   ],
   "source": [
    "(x:=1+i%43)in{7,8,29}"
   ]
  },
  {
   "cell_type": "code",
   "execution_count": 190,
   "metadata": {},
   "outputs": [
    {
     "name": "stdout",
     "output_type": "stream",
     "text": [
      "alf  \n"
     ]
    }
   ],
   "source": [
    "print(\"ablefa t a\"[((x:=1+int(input()))%43in{7,8,29})or x%2::2])"
   ]
  },
  {
   "cell_type": "code",
   "execution_count": 393,
   "metadata": {},
   "outputs": [],
   "source": [
    "for i in np.concatenate([A, B]):\n",
    "    x = i + 1\n",
    "    a = \"ablefa t a\"[x%2 or x%96in{54,36,82,8}::2]\n",
    "    b = \"baelaft a\"[(x:=i%86%42%22)%2-(x==7)::2]\n",
    "    if a.strip() != b.strip():\n",
    "        print(i, a, b)\n",
    "        break"
   ]
  },
  {
   "cell_type": "code",
   "execution_count": 233,
   "metadata": {},
   "outputs": [
    {
     "data": {
      "text/plain": [
       "False"
      ]
     },
     "execution_count": 233,
     "metadata": {},
     "output_type": "execute_result"
    }
   ],
   "source": [
    "i = 129\n",
    "i%43in{6,7,28}"
   ]
  },
  {
   "cell_type": "code",
   "execution_count": 262,
   "metadata": {},
   "outputs": [
    {
     "name": "stdout",
     "output_type": "stream",
     "text": [
      "alf  \n"
     ]
    }
   ],
   "source": [
    "print(\"ablefa t a\"[(x:=int(input()))%86%42%22==7or~x%2::2])"
   ]
  },
  {
   "cell_type": "code",
   "execution_count": 743,
   "metadata": {},
   "outputs": [
    {
     "data": {
      "text/plain": [
       "(array([ 1, 19,  3, 21,  5, 11,  1, 21, 19, 21,  1,  9,  1, 13, 11,  9,  5],\n",
       "       dtype=int32),\n",
       " array([ 2, 18,  4,  4,  7, 12, 18, 16, 18, 12,  7,  7, 16, 14,  6,  7],\n",
       "       dtype=int32),\n",
       " array([7, 7, 7, 7], dtype=int32),\n",
       " array([], dtype=int32))"
      ]
     },
     "execution_count": 743,
     "metadata": {},
     "output_type": "execute_result"
    }
   ],
   "source": [
    "import numpy as np\n",
    "\n",
    "A = np.array(A)\n",
    "B = np.array(B)\n",
    "C = np.array([7, 437, 887505, 999971])\n",
    "\n",
    "M = 86\n",
    "O = 42\n",
    "P = 22\n",
    "Q = 22\n",
    "A % M % O % P % Q, B % M % O % P % Q, C % M % O % P % Q, np.intersect1d(A % M % O % P % Q, C % M % O % P % Q)"
   ]
  },
  {
   "cell_type": "code",
   "execution_count": 3,
   "metadata": {},
   "outputs": [
    {
     "data": {
      "text/plain": [
       "(array([     5,    129,    411,    435,    537,    987,    999, 123689,\n",
       "        439827, 478911, 483135, 548937, 549387, 948731, 999995, 999997,\n",
       "        999999]),\n",
       " array([      6,       7,     104,     198,     437,     562,     948,\n",
       "           1000,  109754,  129876,  465512,  587462,  887505,  999971,\n",
       "         999998, 1000000]),\n",
       " array([     7,    437, 887505, 999971]))"
      ]
     },
     "execution_count": 3,
     "metadata": {},
     "output_type": "execute_result"
    }
   ],
   "source": [
    "A=np.sort(A)\n",
    "B = np.sort(B)\n",
    "C = np.sort(C)\n",
    "A,B,C"
   ]
  },
  {
   "cell_type": "code",
   "execution_count": 299,
   "metadata": {},
   "outputs": [
    {
     "data": {
      "text/plain": [
       "(array([ 1.60943791,  4.8598124 ,  6.01859321,  6.07534603,  6.28599809,\n",
       "         6.89467004,  6.90675478, 11.72552563, 12.99413675, 13.07927006,\n",
       "        13.0880514 , 13.21573896, 13.21655839, 13.76288058, 13.81550556,\n",
       "        13.81550756, 13.81550956]),\n",
       " array([ 1.94591015,  6.0799332 , 13.69616943, 13.81548156]))"
      ]
     },
     "execution_count": 299,
     "metadata": {},
     "output_type": "execute_result"
    }
   ],
   "source": [
    "np.log(A),np.log(C)"
   ]
  },
  {
   "cell_type": "code",
   "execution_count": 342,
   "metadata": {},
   "outputs": [
    {
     "data": {
      "text/plain": [
       "'680'"
      ]
     },
     "execution_count": 342,
     "metadata": {},
     "output_type": "execute_result"
    }
   ],
   "source": [
    "\"1234567890\"[-5::2]"
   ]
  },
  {
   "cell_type": "code",
   "execution_count": null,
   "metadata": {},
   "outputs": [],
   "source": []
  },
  {
   "cell_type": "code",
   "execution_count": null,
   "metadata": {},
   "outputs": [
    {
     "data": {
      "text/plain": [
       "(array([   430, 887068, 112466]), 2, 2)"
      ]
     },
     "metadata": {},
     "output_type": "display_data"
    }
   ],
   "source": [
    "D = (C - np.roll(C, 1))[1:]\n",
    "D, np.gcd.reduce(D), np.gcd.reduce(D[:-1])\n"
   ]
  },
  {
   "cell_type": "code",
   "execution_count": 758,
   "metadata": {},
   "outputs": [
    {
     "data": {
      "text/plain": [
       "(array([5, 1, 5, 5, 5, 1, 5, 5, 5, 3, 3, 1, 5, 3, 1, 3, 5], dtype=int32),\n",
       " array([6, 7, 0, 6, 7, 6, 0, 6, 2, 2, 4, 6, 7, 7, 4, 6], dtype=int32),\n",
       " array([7, 7, 7, 7], dtype=int32),\n",
       " array([], dtype=int32))"
      ]
     },
     "execution_count": 758,
     "metadata": {},
     "output_type": "execute_result"
    }
   ],
   "source": [
    "# M = 69\n",
    "# O = 29\n",
    "# P = 4\n",
    "# M = 86\n",
    "# O = 32\n",
    "# P = 10\n",
    "# M = 91\n",
    "# O = 46\n",
    "# P = 500\n",
    "# M,O,P=86,42,22\n",
    "M,O,P=740,238,8\n",
    "Q = 1\n",
    "\n",
    "X = (A * Q) % M % O % P\n",
    "Y = (B * Q) % M % O % P\n",
    "Z = (C * Q) % M % O % P\n",
    "# X &= 3\n",
    "# Y &= 3\n",
    "# Z &= 3\n",
    "# X &= 7\n",
    "# Y &= 7\n",
    "# Z &= 7\n",
    "# X &= 6\n",
    "# Y &= 6\n",
    "# Z &= 6\n",
    "# X -= 6\n",
    "# Y -= 6\n",
    "# Z -= 6\n",
    "# X = X % 2 * (X - 1)\n",
    "# Y = Y % 2 * (Y - 1)\n",
    "# Z = Z % 2 * (Z - 1)\n",
    "# X = ~X\n",
    "# Y = ~Y\n",
    "# Z = ~Z\n",
    "# X = (0<X) - (~A % 2)\n",
    "# Y = (0<Y) - (~B % 2)\n",
    "# Z = (0<Z) - (~C % 2)\n",
    "# X = X // 3\n",
    "# Y = Y // 3\n",
    "# Z = Z // 3\n",
    "# X = A%2-X//3\n",
    "# Y = B%2-Y//3\n",
    "# Z = C%2-Z//3\n",
    "# print(B%2,Y//3)\n",
    "# X = X//3 | ~A%2\n",
    "# Y = Y//3 | ~B%2\n",
    "# Z = Z//3 | ~C%2\n",
    "# X = X%2-(X>6)\n",
    "# Y = Y%2-(Y>6)\n",
    "# X *= X*3\n",
    "# Y *= Y*3\n",
    "# X = (X&6)+(X&1)\n",
    "# Y = (Y&6)+(Y&1)\n",
    "X, Y, Z, np.intersect1d(X,Z)"
   ]
  },
  {
   "cell_type": "code",
   "execution_count": 729,
   "metadata": {},
   "outputs": [
    {
     "ename": "ValueError",
     "evalue": "invalid literal for int() with base 10: ''",
     "output_type": "error",
     "traceback": [
      "\u001b[1;31m---------------------------------------------------------------------------\u001b[0m",
      "\u001b[1;31mValueError\u001b[0m                                Traceback (most recent call last)",
      "Cell \u001b[1;32mIn[729], line 1\u001b[0m\n\u001b[1;32m----> 1\u001b[0m \u001b[39mprint\u001b[39m(\u001b[39m\"\u001b[39m\u001b[39mbaelaft a\u001b[39m\u001b[39m\"\u001b[39m[(x\u001b[39m:=\u001b[39m\u001b[39mint\u001b[39;49m(\u001b[39minput\u001b[39;49m())\u001b[39m%\u001b[39m\u001b[39m86\u001b[39m\u001b[39m%\u001b[39m\u001b[39m42\u001b[39m\u001b[39m%\u001b[39m\u001b[39m22\u001b[39m)\u001b[39m%\u001b[39m\u001b[39m2\u001b[39m\u001b[39m-\u001b[39m(x\u001b[39m==\u001b[39m\u001b[39m7\u001b[39m)::\u001b[39m2\u001b[39m])\n",
      "\u001b[1;31mValueError\u001b[0m: invalid literal for int() with base 10: ''"
     ]
    }
   ],
   "source": [
    "print(\"baelaft a\"[(x:=int(input())%86%42%22)%2-(x==7)::2])"
   ]
  },
  {
   "cell_type": "code",
   "execution_count": null,
   "metadata": {},
   "outputs": [],
   "source": [
    "print(\"ablefa t a\"[(x:=int(input()))%86%42%22==7or~x%2::2])"
   ]
  },
  {
   "cell_type": "code",
   "execution_count": 484,
   "metadata": {},
   "outputs": [
    {
     "name": "stdout",
     "output_type": "stream",
     "text": [
      "alf \n"
     ]
    }
   ],
   "source": [
    "print(\"baelaft a\"[(x:=int(input())%86%42%22-6)%2or~x-1::2])"
   ]
  },
  {
   "cell_type": "code",
   "execution_count": 485,
   "metadata": {},
   "outputs": [
    {
     "ename": "ValueError",
     "evalue": "invalid literal for int() with base 10: ''",
     "output_type": "error",
     "traceback": [
      "\u001b[1;31m---------------------------------------------------------------------------\u001b[0m",
      "\u001b[1;31mValueError\u001b[0m                                Traceback (most recent call last)",
      "Cell \u001b[1;32mIn[485], line 1\u001b[0m\n\u001b[1;32m----> 1\u001b[0m \u001b[39mprint\u001b[39m(\u001b[39m\"\u001b[39m\u001b[39mbaelaft a\u001b[39m\u001b[39m\"\u001b[39m[(x\u001b[39m:=\u001b[39m\u001b[39mint\u001b[39;49m(\u001b[39minput\u001b[39;49m())\u001b[39m%\u001b[39m\u001b[39m86\u001b[39m\u001b[39m%\u001b[39m\u001b[39m42\u001b[39m\u001b[39m%\u001b[39m\u001b[39m22\u001b[39m)\u001b[39m%\u001b[39m\u001b[39m2\u001b[39m\u001b[39m==\u001b[39m\u001b[39m7\u001b[39m::\u001b[39m2\u001b[39m])\n",
      "\u001b[1;31mValueError\u001b[0m: invalid literal for int() with base 10: ''"
     ]
    }
   ],
   "source": [
    "print(\"baelaft a\"[(x:=int(input())%86%42%22)%2==7::2])"
   ]
  },
  {
   "cell_type": "code",
   "execution_count": 528,
   "metadata": {},
   "outputs": [
    {
     "name": "stdout",
     "output_type": "stream",
     "text": [
      "beata\n"
     ]
    }
   ],
   "source": [
    "print(\"ablefa t a\"[((x:=int(input()))%96%46%7==0)+~x%2::2])"
   ]
  },
  {
   "cell_type": "code",
   "execution_count": 548,
   "metadata": {},
   "outputs": [
    {
     "data": {
      "text/plain": [
       "0"
      ]
     },
     "execution_count": 548,
     "metadata": {},
     "output_type": "execute_result"
    }
   ],
   "source": [
    "((x:=int(input()))%96%53%7>0)-(~x%2)"
   ]
  },
  {
   "cell_type": "code",
   "execution_count": 565,
   "metadata": {},
   "outputs": [
    {
     "name": "stdout",
     "output_type": "stream",
     "text": [
      "beata\n"
     ]
    }
   ],
   "source": [
    "print(\"baelaft a\"[(0<(x:=int(input()))%96%53%7)-~x%2::2])"
   ]
  },
  {
   "cell_type": "code",
   "execution_count": 566,
   "metadata": {},
   "outputs": [
    {
     "ename": "SyntaxError",
     "evalue": "cannot use assignment expressions with operator (676437240.py, line 1)",
     "output_type": "error",
     "traceback": [
      "\u001b[1;36m  Cell \u001b[1;32mIn[566], line 1\u001b[1;36m\u001b[0m\n\u001b[1;33m    print(\"baelaft a\"[-(~x:=int(input()))%2+(0<x%96%53%7)::2])\u001b[0m\n\u001b[1;37m                        ^\u001b[0m\n\u001b[1;31mSyntaxError\u001b[0m\u001b[1;31m:\u001b[0m cannot use assignment expressions with operator\n"
     ]
    }
   ],
   "source": [
    "print(\"baelaft a\"[-~(x:=int(input()))%2+(0<x%96%53%7)::2])"
   ]
  },
  {
   "cell_type": "code",
   "execution_count": 626,
   "metadata": {},
   "outputs": [
    {
     "name": "stdout",
     "output_type": "stream",
     "text": [
      "alf \n"
     ]
    }
   ],
   "source": [
    "print(\"ablefa t a\"[((x:=int(input()))%69%29%4>2)|~x%2::2])"
   ]
  },
  {
   "cell_type": "code",
   "execution_count": 633,
   "metadata": {},
   "outputs": [
    {
     "name": "stdout",
     "output_type": "stream",
     "text": [
      "beata\n"
     ]
    }
   ],
   "source": [
    "print(\"ablefa t a\"[2<(x:=int(input()))%69%29%4or~x%2::2])"
   ]
  },
  {
   "cell_type": "code",
   "execution_count": 634,
   "metadata": {},
   "outputs": [
    {
     "name": "stdout",
     "output_type": "stream",
     "text": [
      "alf  \n"
     ]
    }
   ],
   "source": [
    "print(\"ablefa t a\"[2<(x:=int(input()))%69%29%4|~x%2::2])"
   ]
  },
  {
   "cell_type": "code",
   "execution_count": 635,
   "metadata": {},
   "outputs": [
    {
     "name": "stderr",
     "output_type": "stream",
     "text": [
      "C:\\Users\\0\\AppData\\Local\\Temp\\ipykernel_23688\\3564680977.py:4: DeprecationWarning: In future, it will be an error for 'np.bool_' scalars to be interpreted as an index\n",
      "  b = \"ablefa t a\"[2<(x:=i)%69%29%4or~x%2::2]\n"
     ]
    }
   ],
   "source": [
    "for i in np.concatenate([A, B]):\n",
    "    x = i + 1\n",
    "    a = \"ablefa t a\"[x%2 or x%96in{54,36,82,8}::2]\n",
    "    b = \"ablefa t a\"[2<(x:=i)%69%29%4or~x%2::2]\n",
    "    if a.strip() != b.strip():\n",
    "        print(i, a, b)\n",
    "        break"
   ]
  },
  {
   "cell_type": "code",
   "execution_count": 715,
   "metadata": {},
   "outputs": [],
   "source": [
    "for i in np.concatenate([A, B]):\n",
    "    x = i + 1\n",
    "    a = \"ablefa t a\"[x%2 or x%96in{54,36,82,8}::2]\n",
    "    b = \"ablefa t a\"[~(x:=i)%2|x%69%29%4//3::2]\n",
    "    if a.strip() != b.strip():\n",
    "        print(i, a, b)\n",
    "        break"
   ]
  },
  {
   "cell_type": "code",
   "execution_count": 646,
   "metadata": {},
   "outputs": [
    {
     "name": "stdout",
     "output_type": "stream",
     "text": [
      "alf  \n"
     ]
    }
   ],
   "source": [
    "print(\"ablefa t a\"[~(x:=int(input()))%2|x%69%29%4//3::2])"
   ]
  },
  {
   "cell_type": "code",
   "execution_count": 724,
   "metadata": {},
   "outputs": [],
   "source": [
    "for i in np.concatenate([A, B]):\n",
    "    x = i + 1\n",
    "    a = \"ablefa t a\"[x%2 or x%96in{54,36,82,8}::2]\n",
    "    b = \"baelaft a\"[(x:=i)%2&(x%69%29%4<3)::2]\n",
    "    if a.strip() != b.strip():\n",
    "        print(i, a, b)\n",
    "        break"
   ]
  },
  {
   "cell_type": "code",
   "execution_count": 651,
   "metadata": {},
   "outputs": [
    {
     "name": "stdout",
     "output_type": "stream",
     "text": [
      "beata\n"
     ]
    }
   ],
   "source": [
    "print(\"baelaft a\"[(x:=int(input()))%2&(x%69%29%4<3)::2])"
   ]
  },
  {
   "cell_type": "code",
   "execution_count": 661,
   "metadata": {},
   "outputs": [],
   "source": [
    "for i in np.concatenate([A, B]):\n",
    "    x = i + 1\n",
    "    a = \"ablefa t a\"[x%2 or x%96in{54,36,82,8}::2]\n",
    "    b = \"ablefa t a\"[~(x:=i)%2|x%69%29%4//3::2]\n",
    "    if a.strip() != b.strip():\n",
    "        print(i, a, b)\n",
    "        break"
   ]
  },
  {
   "cell_type": "code",
   "execution_count": null,
   "metadata": {},
   "outputs": [],
   "source": [
    "print(\"ablefa t a\"[~(x:=int(input()))%2|x%69%29%4//3::2])"
   ]
  },
  {
   "cell_type": "code",
   "execution_count": 665,
   "metadata": {},
   "outputs": [
    {
     "name": "stdout",
     "output_type": "stream",
     "text": [
      "129 alf   beata\n"
     ]
    }
   ],
   "source": [
    "for i in np.concatenate([A, B]):\n",
    "    x = i + 1\n",
    "    a = \"ablefa t a\"[x%2 or x%96in{54,36,82,8}::2]\n",
    "    b = \"baelaft a\"[(x:=i)%2&x%69%29%4::2]\n",
    "    if a.strip() != b.strip():\n",
    "        print(i, a, b)\n",
    "        break"
   ]
  },
  {
   "cell_type": "code",
   "execution_count": 706,
   "metadata": {},
   "outputs": [
    {
     "name": "stdout",
     "output_type": "stream",
     "text": [
      "6 beata alf \n"
     ]
    },
    {
     "name": "stderr",
     "output_type": "stream",
     "text": [
      "C:\\Users\\0\\AppData\\Local\\Temp\\ipykernel_23688\\529905282.py:4: DeprecationWarning: In future, it will be an error for 'np.bool_' scalars to be interpreted as an index\n",
      "  b = \"baelaft a\"[((x:=i%86%32%10)&6==6)or(x&1==1)::2]\n"
     ]
    }
   ],
   "source": [
    "for i in np.concatenate([A, B]):\n",
    "    x = i + 1\n",
    "    a = \"ablefa t a\"[x%2 or x%96in{54,36,82,8}::2]\n",
    "    b = \"baelaft a\"[((x:=i%86%32%10)&6==6)or(x&1==1)::2]\n",
    "    if a.strip() != b.strip():\n",
    "        print(i, a, b)\n",
    "        break"
   ]
  },
  {
   "cell_type": "code",
   "execution_count": 680,
   "metadata": {},
   "outputs": [
    {
     "name": "stdout",
     "output_type": "stream",
     "text": [
      "beata\n"
     ]
    }
   ],
   "source": [
    "print(\"baelaft a\"[(x:=int(input())%86%42%22&7)%2-x>6::2])"
   ]
  },
  {
   "cell_type": "code",
   "execution_count": 759,
   "metadata": {},
   "outputs": [],
   "source": [
    "for i in np.concatenate([A, B]):\n",
    "    x = i + 1\n",
    "    a = \"ablefa t a\"[x%2 or x%96in{54,36,82,8}::2]\n",
    "    b = \"baelaft a\"[i%740%238%8in(1,3,5)::2]\n",
    "    if a.strip() != b.strip():\n",
    "        print(i, a, b)\n",
    "        break"
   ]
  },
  {
   "cell_type": "code",
   "execution_count": null,
   "metadata": {},
   "outputs": [],
   "source": [
    "print('baelaft a'[int(input())%740%238%8in(1,3,5)::2])"
   ]
  },
  {
   "cell_type": "code",
   "execution_count": 32,
   "metadata": {},
   "outputs": [
    {
     "data": {
      "text/plain": [
       "(array([     5,    129,    411,    435,    537,    987,    999, 123689,\n",
       "        439827, 478911, 483135, 548937, 549387, 948731, 999995, 999997,\n",
       "        999999]),\n",
       " array([      6,       7,     104,     198,     437,     562,     948,\n",
       "           1000,  109754,  129876,  465512,  587462,  887505,  999971,\n",
       "         999998, 1000000]),\n",
       " (array([ 1,  4, 12, 13], dtype=int64),))"
      ]
     },
     "execution_count": 32,
     "metadata": {},
     "output_type": "execute_result"
    }
   ],
   "source": [
    "import numpy as np\n",
    "D = {948:1,104:1,129:0,987:0,411:0,198:1,562:1,537:0,435:0,437:1,999:0,1000:1,948731:0,109754:1,123689:0,549387:0,478911:0,129876:1,587462:1,548937:0,483135:0,439827:0,999999:0,999998:1,999997:0,999995:0,999971:1,887505:1,465512:1,1000000:1,5:0,6:1,7:1}\n",
    "A = []\n",
    "B = []\n",
    "for key, value in D.items():\n",
    "    if value == 1: B.append(key)\n",
    "    else: A.append(key)\n",
    "\n",
    "A, B = np.sort(np.array(A)), np.sort(np.array(B))\n",
    "A, B, np.where(B % 2 == 1)"
   ]
  },
  {
   "cell_type": "code",
   "execution_count": 145,
   "metadata": {},
   "outputs": [
    {
     "name": "stdout",
     "output_type": "stream",
     "text": [
      "472 76 10 3 7\n"
     ]
    },
    {
     "ename": "KeyboardInterrupt",
     "evalue": "",
     "output_type": "error",
     "traceback": [
      "\u001b[1;31m---------------------------------------------------------------------------\u001b[0m",
      "\u001b[1;31mKeyboardInterrupt\u001b[0m                         Traceback (most recent call last)",
      "Cell \u001b[1;32mIn[145], line 6\u001b[0m\n\u001b[0;32m      4\u001b[0m a \u001b[39m=\u001b[39m A \u001b[39m%\u001b[39m m1 \u001b[39m%\u001b[39m m2 \u001b[39m%\u001b[39m m3\n\u001b[0;32m      5\u001b[0m b \u001b[39m=\u001b[39m B \u001b[39m%\u001b[39m m1 \u001b[39m%\u001b[39m m2 \u001b[39m%\u001b[39m m3\n\u001b[1;32m----> 6\u001b[0m c \u001b[39m=\u001b[39m np\u001b[39m.\u001b[39;49mintersect1d(a, b)\n\u001b[0;32m      7\u001b[0m \u001b[39mif\u001b[39;00m \u001b[39mlen\u001b[39m(c) \u001b[39m==\u001b[39m \u001b[39m0\u001b[39m \u001b[39mand\u001b[39;00m (\u001b[39mlen\u001b[39m(\u001b[39mset\u001b[39m(a)) \u001b[39m<\u001b[39m \u001b[39m4\u001b[39m \u001b[39mor\u001b[39;00m \u001b[39mlen\u001b[39m(\u001b[39mset\u001b[39m(b)) \u001b[39m<\u001b[39m \u001b[39m4\u001b[39m): \u001b[39mprint\u001b[39m(m1, m2, m3, \u001b[39mlen\u001b[39m(\u001b[39mset\u001b[39m(a)), \u001b[39mlen\u001b[39m(\u001b[39mset\u001b[39m(b)))\n",
      "File \u001b[1;32m<__array_function__ internals>:200\u001b[0m, in \u001b[0;36mintersect1d\u001b[1;34m(*args, **kwargs)\u001b[0m\n",
      "File \u001b[1;32mc:\\Users\\0\\main.syncthing\\altair\\.venv\\lib\\site-packages\\numpy\\lib\\arraysetops.py:445\u001b[0m, in \u001b[0;36mintersect1d\u001b[1;34m(ar1, ar2, assume_unique, return_indices)\u001b[0m\n\u001b[0;32m    443\u001b[0m     \u001b[39melse\u001b[39;00m:\n\u001b[0;32m    444\u001b[0m         ar1 \u001b[39m=\u001b[39m unique(ar1)\n\u001b[1;32m--> 445\u001b[0m         ar2 \u001b[39m=\u001b[39m unique(ar2)\n\u001b[0;32m    446\u001b[0m \u001b[39melse\u001b[39;00m:\n\u001b[0;32m    447\u001b[0m     ar1 \u001b[39m=\u001b[39m ar1\u001b[39m.\u001b[39mravel()\n",
      "File \u001b[1;32m<__array_function__ internals>:200\u001b[0m, in \u001b[0;36munique\u001b[1;34m(*args, **kwargs)\u001b[0m\n",
      "File \u001b[1;32mc:\\Users\\0\\main.syncthing\\altair\\.venv\\lib\\site-packages\\numpy\\lib\\arraysetops.py:274\u001b[0m, in \u001b[0;36munique\u001b[1;34m(ar, return_index, return_inverse, return_counts, axis, equal_nan)\u001b[0m\n\u001b[0;32m    272\u001b[0m ar \u001b[39m=\u001b[39m np\u001b[39m.\u001b[39masanyarray(ar)\n\u001b[0;32m    273\u001b[0m \u001b[39mif\u001b[39;00m axis \u001b[39mis\u001b[39;00m \u001b[39mNone\u001b[39;00m:\n\u001b[1;32m--> 274\u001b[0m     ret \u001b[39m=\u001b[39m _unique1d(ar, return_index, return_inverse, return_counts, \n\u001b[0;32m    275\u001b[0m                     equal_nan\u001b[39m=\u001b[39;49mequal_nan)\n\u001b[0;32m    276\u001b[0m     \u001b[39mreturn\u001b[39;00m _unpack_tuple(ret)\n\u001b[0;32m    278\u001b[0m \u001b[39m# axis was specified and not None\u001b[39;00m\n",
      "File \u001b[1;32mc:\\Users\\0\\main.syncthing\\altair\\.venv\\lib\\site-packages\\numpy\\lib\\arraysetops.py:336\u001b[0m, in \u001b[0;36m_unique1d\u001b[1;34m(ar, return_index, return_inverse, return_counts, equal_nan)\u001b[0m\n\u001b[0;32m    334\u001b[0m     aux \u001b[39m=\u001b[39m ar[perm]\n\u001b[0;32m    335\u001b[0m \u001b[39melse\u001b[39;00m:\n\u001b[1;32m--> 336\u001b[0m     ar\u001b[39m.\u001b[39;49msort()\n\u001b[0;32m    337\u001b[0m     aux \u001b[39m=\u001b[39m ar\n\u001b[0;32m    338\u001b[0m mask \u001b[39m=\u001b[39m np\u001b[39m.\u001b[39mempty(aux\u001b[39m.\u001b[39mshape, dtype\u001b[39m=\u001b[39mnp\u001b[39m.\u001b[39mbool_)\n",
      "\u001b[1;31mKeyboardInterrupt\u001b[0m: "
     ]
    }
   ],
   "source": [
    "for m1 in range(2, 1000, 2):\n",
    "    for m2 in range(2, m1 + 2, 2):\n",
    "        for m3 in range(2, m2 + 2, 2):\n",
    "            a = A % m1 % m2 % m3\n",
    "            b = B % m1 % m2 % m3\n",
    "            c = np.intersect1d(a, b)\n",
    "            if len(c) == 0 and (len(set(a)) < 4 or len(set(b)) < 4): print(m1, m2, m3, len(set(a)), len(set(b)))"
   ]
  },
  {
   "cell_type": "code",
   "execution_count": 56,
   "metadata": {},
   "outputs": [
    {
     "data": {
      "text/plain": [
       "({1, 3, 5}, {0, 2, 4, 6, 7, 8, 9})"
      ]
     },
     "execution_count": 56,
     "metadata": {},
     "output_type": "execute_result"
    }
   ],
   "source": [
    "m1, m2, m3 = 472, 76, 10\n",
    "set(A % m1 % m2 % m3), set(B % m1 % m2 % m3)"
   ]
  },
  {
   "cell_type": "code",
   "execution_count": 78,
   "metadata": {},
   "outputs": [
    {
     "name": "stdout",
     "output_type": "stream",
     "text": [
      "346 35 3\n",
      "346 547 3\n"
     ]
    }
   ],
   "source": [
    "for m1 in range(2, 1000, 2):\n",
    "    for m2 in range(1, 1000, 2):\n",
    "        a = (A % m1) & m2\n",
    "        b = (B % m1) & m2\n",
    "        c = np.intersect1d(a, b)\n",
    "        if len(c) == 0 and len(set(a)) < 4: print(m1, m2, len(set(a)))"
   ]
  },
  {
   "cell_type": "code",
   "execution_count": 74,
   "metadata": {},
   "outputs": [
    {
     "data": {
      "text/plain": [
       "({1, 33, 35}, {0, 2, 3, 32, 34})"
      ]
     },
     "execution_count": 74,
     "metadata": {},
     "output_type": "execute_result"
    }
   ],
   "source": [
    "m1, m2, = 346, 35\n",
    "set(A % m1 & m2), set(B % m1 & m2)"
   ]
  },
  {
   "cell_type": "code",
   "execution_count": 75,
   "metadata": {},
   "outputs": [],
   "source": [
    "for i in np.concatenate([A, B]):\n",
    "    x = i + 1\n",
    "    a = \"ablefa t a\"[x%2 or x%96in{54,36,82,8}::2]\n",
    "    b = \"baelaft a\"[i%346&35in(1,33,35)::2]\n",
    "    if a.strip() != b.strip():\n",
    "        print(i, a, b)\n",
    "        break"
   ]
  },
  {
   "cell_type": "code",
   "execution_count": null,
   "metadata": {},
   "outputs": [],
   "source": [
    "print('baelaft a'[int(input())%346&35in(1,33,35)::2])"
   ]
  },
  {
   "cell_type": "code",
   "execution_count": 79,
   "metadata": {},
   "outputs": [],
   "source": [
    "for m1 in range(1, 1000):\n",
    "    for m2 in range(1, 1000):\n",
    "        a = (A & m1) % m2\n",
    "        b = (B & m1) % m2\n",
    "        c = np.intersect1d(a, b)\n",
    "        if len(c) == 0 and len(set(a)) < 4: print(m1, m2, len(set(a)))"
   ]
  },
  {
   "cell_type": "code",
   "execution_count": 80,
   "metadata": {},
   "outputs": [
    {
     "name": "stdout",
     "output_type": "stream",
     "text": [
      "346 35 3\n",
      "346 547 3\n"
     ]
    }
   ],
   "source": [
    "for m1 in range(1, 1000):\n",
    "    for m2 in range(1, 1000):\n",
    "        a = (A % m1) & m2\n",
    "        b = (B % m1) & m2\n",
    "        c = np.intersect1d(a, b)\n",
    "        if len(c) == 0 and len(set(a)) < 4: print(m1, m2, len(set(a)))"
   ]
  },
  {
   "cell_type": "code",
   "execution_count": 144,
   "metadata": {},
   "outputs": [],
   "source": [
    "for m1 in range(1, 1000):\n",
    "    for m2 in range(1, 1000):\n",
    "        a = (A % m1) ^ m2\n",
    "        b = (B % m1) ^ m2\n",
    "        c = np.intersect1d(a, b)\n",
    "        if len(c) == 0 and (len(set(a)) < 4 or len(set(b)) < 4): print(m1, m2, m3, len(set(a)), len(set(b)))"
   ]
  },
  {
   "cell_type": "code",
   "execution_count": 82,
   "metadata": {},
   "outputs": [],
   "source": [
    "for m1 in range(1, 1000):\n",
    "    for m2 in range(1, 1000):\n",
    "        a = (A ^ m1) % m2\n",
    "        b = (B ^ m1) % m2\n",
    "        c = np.intersect1d(a, b)\n",
    "        if len(c) == 0 and len(set(a)) < 4: print(m1, m2, len(set(a)))"
   ]
  },
  {
   "cell_type": "code",
   "execution_count": 143,
   "metadata": {},
   "outputs": [
    {
     "name": "stdout",
     "output_type": "stream",
     "text": [
      "92 50 11 3 5\n"
     ]
    }
   ],
   "source": [
    "for m1 in range(1, 100):\n",
    "    for m2 in range(1, 100):\n",
    "        for m3 in range(1, 20):\n",
    "            a = ((A % m1) % m2) & m3\n",
    "            b = ((B % m1) % m2) & m3\n",
    "            c = np.intersect1d(a, b)\n",
    "            if len(c) == 0 and (len(set(a)) < 4 or len(set(b)) < 4): print(m1, m2, m3, len(set(a)), len(set(b)))"
   ]
  },
  {
   "cell_type": "code",
   "execution_count": 100,
   "metadata": {},
   "outputs": [
    {
     "data": {
      "text/plain": [
       "({1, 9, 11}, {0, 2, 3, 8, 10})"
      ]
     },
     "execution_count": 100,
     "metadata": {},
     "output_type": "execute_result"
    }
   ],
   "source": [
    "m1, m2, m3 = 92, 50, 11\n",
    "set(((A % m1) % m2) & m3), set(((B % m1) % m2) & m3)"
   ]
  },
  {
   "cell_type": "code",
   "execution_count": 102,
   "metadata": {},
   "outputs": [],
   "source": [
    "for i in np.concatenate([A, B]):\n",
    "    x = i + 1\n",
    "    a = \"ablefa t a\"[x%2 or x%96in{54,36,82,8}::2]\n",
    "    b = \"baelaft a\"[i%92%50&11in(1,9,11)::2]\n",
    "    if a.strip() != b.strip():\n",
    "        print(i, a, b)\n",
    "        break"
   ]
  },
  {
   "cell_type": "code",
   "execution_count": 103,
   "metadata": {},
   "outputs": [
    {
     "name": "stdout",
     "output_type": "stream",
     "text": [
      "alf \n"
     ]
    }
   ],
   "source": [
    "print('baelaft a'[int(input())%92%50&11in(1,9,11)::2])"
   ]
  },
  {
   "cell_type": "code",
   "execution_count": 142,
   "metadata": {},
   "outputs": [
    {
     "name": "stdout",
     "output_type": "stream",
     "text": [
      "346 476 99 3 5\n",
      "346 988 99 3 5\n"
     ]
    }
   ],
   "source": [
    "for m1 in range(1, 1000):\n",
    "    for m2 in range(1, 1000):\n",
    "        a = (A % m1) | m2\n",
    "        b = (B % m1) | m2\n",
    "        c = np.intersect1d(a, b)\n",
    "        if len(c) == 0 and (len(set(a)) < 4 or len(set(b)) < 4): print(m1, m2, m3, len(set(a)), len(set(b)))"
   ]
  },
  {
   "cell_type": "code",
   "execution_count": 109,
   "metadata": {},
   "outputs": [
    {
     "data": {
      "text/plain": [
       "({477, 509, 511}, {476, 478, 479, 508, 510})"
      ]
     },
     "execution_count": 109,
     "metadata": {},
     "output_type": "execute_result"
    }
   ],
   "source": [
    "m1, m2, = 346, 476\n",
    "set(A % m1 | m2), set(B % m1 | m2)"
   ]
  },
  {
   "cell_type": "code",
   "execution_count": 112,
   "metadata": {},
   "outputs": [
    {
     "name": "stdout",
     "output_type": "stream",
     "text": [
      "1 91 9\n",
      "2 91 9\n",
      "3 91 9\n",
      "4 91 9\n",
      "5 91 9\n",
      "6 91 9\n",
      "7 91 9\n",
      "8 91 9\n",
      "9 91 9\n",
      "10 91 9\n",
      "11 91 9\n",
      "12 91 9\n",
      "13 91 9\n",
      "14 91 9\n",
      "15 91 9\n",
      "16 91 9\n",
      "17 91 9\n",
      "18 91 9\n",
      "19 91 9\n",
      "20 91 9\n",
      "21 91 9\n",
      "22 91 9\n",
      "23 91 9\n",
      "24 91 9\n",
      "25 91 9\n",
      "26 91 9\n",
      "27 91 9\n",
      "28 91 9\n",
      "29 91 9\n",
      "30 91 9\n",
      "31 91 9\n",
      "32 91 9\n",
      "33 91 9\n",
      "34 91 9\n",
      "35 91 9\n",
      "36 91 9\n",
      "37 91 9\n",
      "38 91 9\n",
      "39 91 9\n",
      "40 91 9\n",
      "41 91 9\n",
      "42 91 9\n",
      "43 91 9\n",
      "44 91 9\n",
      "45 91 9\n",
      "46 91 9\n",
      "47 91 9\n",
      "48 91 9\n",
      "49 91 9\n",
      "50 91 9\n",
      "51 91 9\n",
      "52 91 9\n",
      "53 91 9\n",
      "54 91 9\n",
      "55 91 9\n",
      "56 91 9\n",
      "57 91 9\n",
      "58 91 9\n",
      "59 91 9\n",
      "60 91 9\n",
      "61 91 9\n",
      "62 91 9\n",
      "63 91 9\n",
      "64 91 9\n",
      "65 91 9\n",
      "66 91 9\n",
      "67 91 9\n",
      "68 91 9\n",
      "69 91 9\n",
      "70 91 9\n",
      "71 91 9\n",
      "72 91 9\n",
      "73 91 9\n",
      "74 91 9\n",
      "75 91 9\n",
      "76 91 9\n",
      "77 91 9\n",
      "78 91 9\n",
      "79 91 9\n",
      "80 91 9\n",
      "81 91 9\n",
      "82 91 9\n",
      "83 91 9\n",
      "84 91 9\n",
      "85 91 9\n",
      "86 91 9\n",
      "87 91 9\n",
      "88 91 9\n",
      "89 91 9\n",
      "90 91 9\n",
      "91 91 9\n",
      "92 91 9\n",
      "93 91 9\n",
      "94 91 9\n",
      "95 91 9\n",
      "96 91 9\n",
      "97 91 9\n",
      "98 91 9\n",
      "99 91 9\n",
      "100 91 9\n",
      "101 91 9\n",
      "102 91 9\n",
      "103 91 9\n",
      "104 91 9\n",
      "105 91 9\n",
      "106 91 9\n",
      "107 91 9\n",
      "108 91 9\n",
      "109 91 9\n",
      "110 91 9\n",
      "111 91 9\n",
      "112 91 9\n",
      "113 91 9\n",
      "114 91 9\n",
      "115 91 9\n",
      "116 91 9\n",
      "117 91 9\n",
      "118 91 9\n",
      "119 91 9\n",
      "120 91 9\n",
      "121 91 9\n",
      "122 91 9\n",
      "123 91 9\n",
      "124 91 9\n",
      "125 91 9\n",
      "126 91 9\n",
      "127 91 9\n",
      "128 91 9\n",
      "129 91 9\n",
      "130 91 9\n",
      "131 91 9\n",
      "132 91 9\n",
      "133 91 9\n",
      "134 91 9\n",
      "135 91 9\n",
      "136 91 9\n",
      "137 91 9\n",
      "138 91 9\n",
      "139 91 9\n",
      "140 91 9\n",
      "141 91 9\n",
      "142 91 9\n",
      "143 91 9\n",
      "144 91 9\n",
      "145 91 9\n",
      "146 91 9\n",
      "147 91 9\n",
      "148 91 9\n",
      "149 91 9\n",
      "150 91 9\n",
      "151 91 9\n",
      "152 91 9\n",
      "153 91 9\n",
      "154 91 9\n",
      "155 91 9\n",
      "156 91 9\n",
      "157 91 9\n",
      "158 91 9\n",
      "159 91 9\n",
      "160 91 9\n",
      "161 91 9\n",
      "162 91 9\n",
      "163 91 9\n",
      "164 91 9\n",
      "165 91 9\n",
      "166 91 9\n",
      "167 91 9\n",
      "168 91 9\n",
      "169 91 9\n",
      "170 91 9\n",
      "171 91 9\n",
      "172 91 9\n",
      "173 91 9\n",
      "174 91 9\n",
      "175 91 9\n",
      "176 91 9\n",
      "177 91 9\n",
      "178 91 9\n",
      "179 91 9\n",
      "180 91 9\n",
      "181 91 9\n",
      "182 91 9\n",
      "183 91 9\n",
      "184 91 9\n",
      "185 91 9\n",
      "186 91 9\n",
      "187 91 9\n",
      "188 91 9\n",
      "189 91 9\n",
      "190 91 9\n",
      "191 91 9\n",
      "192 91 9\n",
      "193 91 9\n",
      "194 91 9\n",
      "195 91 9\n",
      "196 91 9\n",
      "197 91 9\n",
      "198 91 9\n",
      "199 91 9\n",
      "200 91 9\n",
      "201 91 9\n",
      "202 91 9\n",
      "203 91 9\n",
      "204 91 9\n",
      "205 91 9\n",
      "206 91 9\n",
      "207 91 9\n",
      "208 91 9\n",
      "209 91 9\n",
      "210 91 9\n",
      "211 91 9\n",
      "212 91 9\n",
      "213 91 9\n",
      "214 91 9\n",
      "215 91 9\n",
      "216 91 9\n",
      "217 91 9\n",
      "218 91 9\n",
      "219 91 9\n",
      "220 91 9\n",
      "221 91 9\n",
      "222 91 9\n",
      "223 91 9\n",
      "224 91 9\n",
      "225 91 9\n",
      "226 91 9\n",
      "227 91 9\n",
      "228 91 9\n",
      "229 91 9\n",
      "230 91 9\n",
      "231 91 9\n",
      "232 91 9\n",
      "233 91 9\n",
      "234 91 9\n",
      "235 91 9\n",
      "236 91 9\n",
      "237 91 9\n",
      "238 91 9\n",
      "239 91 9\n",
      "240 91 9\n",
      "241 91 9\n",
      "242 91 9\n",
      "243 91 9\n",
      "244 91 9\n",
      "245 91 9\n",
      "246 91 9\n",
      "247 91 9\n",
      "248 91 9\n",
      "249 91 9\n",
      "250 91 9\n",
      "251 91 9\n",
      "252 91 9\n",
      "253 91 9\n",
      "254 91 9\n",
      "255 91 9\n",
      "256 91 9\n",
      "257 91 9\n",
      "258 91 9\n",
      "259 91 9\n",
      "260 91 9\n",
      "261 91 9\n",
      "262 91 9\n",
      "263 91 9\n",
      "264 91 9\n",
      "265 91 9\n",
      "266 91 9\n",
      "267 91 9\n",
      "268 91 9\n",
      "269 91 9\n",
      "270 91 9\n",
      "271 91 9\n",
      "272 91 9\n",
      "273 91 9\n",
      "274 91 9\n",
      "275 91 9\n",
      "276 91 9\n",
      "277 91 9\n",
      "278 91 9\n",
      "279 91 9\n",
      "280 91 9\n",
      "281 91 9\n",
      "282 91 9\n",
      "283 91 9\n",
      "284 91 9\n",
      "285 91 9\n",
      "286 91 9\n",
      "287 91 9\n",
      "288 91 9\n",
      "289 91 9\n",
      "290 91 9\n",
      "291 91 9\n",
      "292 91 9\n",
      "293 91 9\n",
      "294 91 9\n",
      "295 91 9\n",
      "296 91 9\n",
      "297 91 9\n",
      "298 91 9\n",
      "299 91 9\n",
      "300 91 9\n",
      "301 91 9\n",
      "302 91 9\n",
      "303 91 9\n",
      "304 91 9\n",
      "305 91 9\n",
      "306 91 9\n",
      "307 91 9\n",
      "308 91 9\n",
      "309 91 9\n",
      "310 91 9\n",
      "311 91 9\n",
      "312 91 9\n",
      "313 91 9\n",
      "314 91 9\n",
      "315 91 9\n",
      "316 91 9\n",
      "317 91 9\n",
      "318 91 9\n",
      "319 91 9\n",
      "320 91 9\n",
      "321 91 9\n",
      "322 91 9\n",
      "323 91 9\n",
      "324 91 9\n",
      "325 91 9\n",
      "326 91 9\n",
      "327 91 9\n",
      "328 91 9\n",
      "329 91 9\n",
      "330 91 9\n",
      "331 91 9\n",
      "332 91 9\n",
      "333 91 9\n",
      "334 91 9\n",
      "335 91 9\n",
      "336 91 9\n",
      "337 91 9\n",
      "338 91 9\n",
      "339 91 9\n",
      "340 91 9\n",
      "341 91 9\n",
      "342 91 9\n",
      "343 91 9\n",
      "344 91 9\n",
      "345 91 9\n",
      "346 91 9\n",
      "347 91 9\n",
      "348 91 9\n",
      "349 91 9\n",
      "350 91 9\n",
      "351 91 9\n",
      "352 91 9\n",
      "353 91 9\n",
      "354 91 9\n",
      "355 91 9\n",
      "356 91 9\n",
      "357 91 9\n",
      "358 91 9\n",
      "359 91 9\n",
      "360 91 9\n",
      "361 91 9\n",
      "362 91 9\n",
      "363 91 9\n",
      "364 91 9\n",
      "365 91 9\n",
      "366 91 9\n",
      "367 91 9\n",
      "368 91 9\n",
      "369 91 9\n",
      "370 91 9\n",
      "371 91 9\n",
      "372 91 9\n",
      "373 91 9\n",
      "374 91 9\n",
      "375 91 9\n",
      "376 91 9\n",
      "377 91 9\n",
      "378 91 9\n",
      "379 91 9\n",
      "380 91 9\n",
      "381 91 9\n",
      "382 91 9\n",
      "383 91 9\n",
      "384 91 9\n",
      "385 91 9\n",
      "386 91 9\n",
      "387 91 9\n",
      "388 91 9\n",
      "389 91 9\n",
      "390 91 9\n",
      "391 91 9\n",
      "392 91 9\n",
      "393 91 9\n",
      "394 91 9\n",
      "395 91 9\n",
      "396 91 9\n",
      "397 91 9\n",
      "398 91 9\n",
      "399 91 9\n",
      "400 91 9\n",
      "401 91 9\n",
      "402 91 9\n",
      "403 91 9\n",
      "404 91 9\n",
      "405 91 9\n",
      "406 91 9\n",
      "407 91 9\n",
      "408 91 9\n",
      "409 91 9\n",
      "410 91 9\n",
      "411 91 9\n",
      "412 91 9\n",
      "413 91 9\n",
      "414 91 9\n",
      "415 91 9\n",
      "416 91 9\n",
      "417 91 9\n",
      "418 91 9\n",
      "419 91 9\n",
      "420 91 9\n",
      "421 91 9\n",
      "422 91 9\n",
      "423 91 9\n",
      "424 91 9\n",
      "425 91 9\n",
      "426 91 9\n",
      "427 91 9\n",
      "428 91 9\n",
      "429 91 9\n",
      "430 91 9\n",
      "431 91 9\n",
      "432 91 9\n",
      "433 91 9\n",
      "434 91 9\n",
      "435 91 9\n",
      "436 91 9\n",
      "437 91 9\n",
      "438 91 9\n",
      "439 91 9\n",
      "440 91 9\n",
      "441 91 9\n",
      "442 91 9\n",
      "443 91 9\n",
      "444 91 9\n",
      "445 91 9\n",
      "446 91 9\n",
      "447 91 9\n",
      "448 91 9\n",
      "449 91 9\n",
      "450 91 9\n",
      "451 91 9\n",
      "452 91 9\n",
      "453 91 9\n",
      "454 91 9\n",
      "455 91 9\n",
      "456 91 9\n",
      "457 91 9\n",
      "458 91 9\n",
      "459 91 9\n",
      "460 91 9\n",
      "461 91 9\n",
      "462 91 9\n",
      "463 91 9\n",
      "464 91 9\n",
      "465 91 9\n",
      "466 91 9\n",
      "467 91 9\n",
      "468 91 9\n",
      "469 91 9\n",
      "470 91 9\n",
      "471 91 9\n",
      "472 91 9\n",
      "473 91 9\n",
      "474 91 9\n",
      "475 91 9\n",
      "476 91 9\n",
      "477 91 9\n",
      "478 91 9\n",
      "479 91 9\n",
      "480 91 9\n",
      "481 91 9\n",
      "482 91 9\n",
      "483 91 9\n",
      "484 91 9\n",
      "485 91 9\n",
      "486 91 9\n",
      "487 91 9\n",
      "488 91 9\n",
      "489 91 9\n",
      "490 91 9\n",
      "491 91 9\n",
      "492 91 9\n",
      "493 91 9\n",
      "494 91 9\n",
      "495 91 9\n",
      "496 91 9\n",
      "497 91 9\n",
      "498 91 9\n",
      "499 91 9\n",
      "500 91 9\n",
      "501 91 9\n",
      "502 91 9\n",
      "503 91 9\n",
      "504 91 9\n",
      "505 91 9\n",
      "506 91 9\n",
      "507 91 9\n",
      "508 91 9\n",
      "509 91 9\n",
      "510 91 9\n",
      "511 91 9\n",
      "512 91 9\n",
      "513 91 9\n",
      "514 91 9\n",
      "515 91 9\n",
      "516 91 9\n",
      "517 91 9\n",
      "518 91 9\n",
      "519 91 9\n",
      "520 91 9\n",
      "521 91 9\n",
      "522 91 9\n",
      "523 91 9\n",
      "524 91 9\n",
      "525 91 9\n",
      "526 91 9\n",
      "527 91 9\n",
      "528 91 9\n",
      "529 91 9\n",
      "530 91 9\n",
      "531 91 9\n",
      "532 91 9\n",
      "533 91 9\n",
      "534 91 9\n",
      "535 91 9\n",
      "536 91 9\n",
      "537 91 9\n",
      "538 91 9\n",
      "539 91 9\n",
      "540 91 9\n",
      "541 91 9\n",
      "542 91 9\n",
      "543 91 9\n",
      "544 91 9\n",
      "545 91 9\n",
      "546 91 9\n",
      "547 91 9\n",
      "548 91 9\n",
      "549 91 9\n",
      "550 91 9\n",
      "551 91 9\n",
      "552 91 9\n",
      "553 91 9\n",
      "554 91 9\n",
      "555 91 9\n",
      "556 91 9\n",
      "557 91 9\n",
      "558 91 9\n",
      "559 91 9\n",
      "560 91 9\n",
      "561 91 9\n",
      "562 91 9\n",
      "563 91 9\n",
      "564 91 9\n",
      "565 91 9\n",
      "566 91 9\n",
      "567 91 9\n",
      "568 91 9\n",
      "569 91 9\n",
      "570 91 9\n",
      "571 91 9\n",
      "572 91 9\n",
      "573 91 9\n",
      "574 91 9\n",
      "575 91 9\n",
      "576 91 9\n",
      "577 91 9\n",
      "578 91 9\n",
      "579 91 9\n",
      "580 91 9\n",
      "581 91 9\n",
      "582 91 9\n",
      "583 91 9\n",
      "584 91 9\n",
      "585 91 9\n",
      "586 91 9\n",
      "587 91 9\n",
      "588 91 9\n",
      "589 91 9\n",
      "590 91 9\n",
      "591 91 9\n",
      "592 91 9\n",
      "593 91 9\n",
      "594 91 9\n",
      "595 91 9\n",
      "596 91 9\n",
      "597 91 9\n",
      "598 91 9\n",
      "599 91 9\n",
      "600 91 9\n",
      "601 91 9\n",
      "602 91 9\n",
      "603 91 9\n",
      "604 91 9\n",
      "605 91 9\n",
      "606 91 9\n",
      "607 91 9\n",
      "608 91 9\n",
      "609 91 9\n",
      "610 91 9\n",
      "611 91 9\n",
      "612 91 9\n",
      "613 91 9\n",
      "614 91 9\n",
      "615 91 9\n",
      "616 91 9\n",
      "617 91 9\n",
      "618 91 9\n",
      "619 91 9\n",
      "620 91 9\n",
      "621 91 9\n",
      "622 91 9\n",
      "623 91 9\n",
      "624 91 9\n",
      "625 91 9\n",
      "626 91 9\n",
      "627 91 9\n",
      "628 91 9\n",
      "629 91 9\n",
      "630 91 9\n",
      "631 91 9\n",
      "632 91 9\n",
      "633 91 9\n",
      "634 91 9\n",
      "635 91 9\n",
      "636 91 9\n",
      "637 91 9\n",
      "638 91 9\n",
      "639 91 9\n",
      "640 91 9\n",
      "641 91 9\n",
      "642 91 9\n",
      "643 91 9\n",
      "644 91 9\n",
      "645 91 9\n",
      "646 91 9\n",
      "647 91 9\n",
      "648 91 9\n",
      "649 91 9\n",
      "650 91 9\n",
      "651 91 9\n",
      "652 91 9\n",
      "653 91 9\n",
      "654 91 9\n",
      "655 91 9\n",
      "656 91 9\n",
      "657 91 9\n",
      "658 91 9\n",
      "659 91 9\n",
      "660 91 9\n",
      "661 91 9\n",
      "662 91 9\n",
      "663 91 9\n",
      "664 91 9\n",
      "665 91 9\n",
      "666 91 9\n",
      "667 91 9\n",
      "668 91 9\n",
      "669 91 9\n",
      "670 91 9\n",
      "671 91 9\n",
      "672 91 9\n",
      "673 91 9\n",
      "674 91 9\n",
      "675 91 9\n",
      "676 91 9\n",
      "677 91 9\n",
      "678 91 9\n",
      "679 91 9\n",
      "680 91 9\n",
      "681 91 9\n",
      "682 91 9\n",
      "683 91 9\n",
      "684 91 9\n",
      "685 91 9\n",
      "686 91 9\n",
      "687 91 9\n",
      "688 91 9\n",
      "689 91 9\n",
      "690 91 9\n",
      "691 91 9\n",
      "692 91 9\n",
      "693 91 9\n",
      "694 91 9\n",
      "695 91 9\n",
      "696 91 9\n",
      "697 91 9\n",
      "698 91 9\n",
      "699 91 9\n",
      "700 91 9\n",
      "701 91 9\n",
      "702 91 9\n",
      "703 91 9\n",
      "704 91 9\n",
      "705 91 9\n",
      "706 91 9\n",
      "707 91 9\n",
      "708 91 9\n",
      "709 91 9\n",
      "710 91 9\n",
      "711 91 9\n",
      "712 91 9\n",
      "713 91 9\n",
      "714 91 9\n",
      "715 91 9\n",
      "716 91 9\n",
      "717 91 9\n",
      "718 91 9\n",
      "719 91 9\n",
      "720 91 9\n",
      "721 91 9\n",
      "722 91 9\n",
      "723 91 9\n",
      "724 91 9\n",
      "725 91 9\n",
      "726 91 9\n",
      "727 91 9\n",
      "728 91 9\n",
      "729 91 9\n",
      "730 91 9\n",
      "731 91 9\n",
      "732 91 9\n",
      "733 91 9\n",
      "734 91 9\n",
      "735 91 9\n",
      "736 91 9\n",
      "737 91 9\n",
      "738 91 9\n",
      "739 91 9\n",
      "740 91 9\n",
      "741 91 9\n",
      "742 91 9\n",
      "743 91 9\n",
      "744 91 9\n",
      "745 91 9\n",
      "746 91 9\n",
      "747 91 9\n",
      "748 91 9\n",
      "749 91 9\n",
      "750 91 9\n",
      "751 91 9\n",
      "752 91 9\n",
      "753 91 9\n",
      "754 91 9\n",
      "755 91 9\n",
      "756 91 9\n",
      "757 91 9\n",
      "758 91 9\n",
      "759 91 9\n",
      "760 91 9\n",
      "761 91 9\n",
      "762 91 9\n",
      "763 91 9\n",
      "764 91 9\n",
      "765 91 9\n",
      "766 91 9\n",
      "767 91 9\n",
      "768 91 9\n",
      "769 91 9\n",
      "770 91 9\n",
      "771 91 9\n",
      "772 91 9\n",
      "773 91 9\n",
      "774 91 9\n",
      "775 91 9\n",
      "776 91 9\n",
      "777 91 9\n",
      "778 91 9\n",
      "779 91 9\n",
      "780 91 9\n",
      "781 91 9\n",
      "782 91 9\n",
      "783 91 9\n",
      "784 91 9\n",
      "785 91 9\n",
      "786 91 9\n",
      "787 91 9\n",
      "788 91 9\n",
      "789 91 9\n",
      "790 91 9\n",
      "791 91 9\n",
      "792 91 9\n",
      "793 91 9\n",
      "794 91 9\n",
      "795 91 9\n",
      "796 91 9\n",
      "797 91 9\n",
      "798 91 9\n",
      "799 91 9\n",
      "800 91 9\n",
      "801 91 9\n",
      "802 91 9\n",
      "803 91 9\n",
      "804 91 9\n",
      "805 91 9\n",
      "806 91 9\n",
      "807 91 9\n",
      "808 91 9\n",
      "809 91 9\n",
      "810 91 9\n",
      "811 91 9\n",
      "812 91 9\n",
      "813 91 9\n",
      "814 91 9\n",
      "815 91 9\n",
      "816 91 9\n",
      "817 91 9\n",
      "818 91 9\n",
      "819 91 9\n",
      "820 91 9\n",
      "821 91 9\n",
      "822 91 9\n",
      "823 91 9\n",
      "824 91 9\n",
      "825 91 9\n",
      "826 91 9\n",
      "827 91 9\n",
      "828 91 9\n",
      "829 91 9\n",
      "830 91 9\n",
      "831 91 9\n",
      "832 91 9\n",
      "833 91 9\n",
      "834 91 9\n",
      "835 91 9\n",
      "836 91 9\n",
      "837 91 9\n",
      "838 91 9\n",
      "839 91 9\n",
      "840 91 9\n",
      "841 91 9\n",
      "842 91 9\n",
      "843 91 9\n",
      "844 91 9\n",
      "845 91 9\n",
      "846 91 9\n",
      "847 91 9\n",
      "848 91 9\n",
      "849 91 9\n",
      "850 91 9\n",
      "851 91 9\n",
      "852 91 9\n",
      "853 91 9\n",
      "854 91 9\n",
      "855 91 9\n",
      "856 91 9\n",
      "857 91 9\n",
      "858 91 9\n",
      "859 91 9\n",
      "860 91 9\n",
      "861 91 9\n",
      "862 91 9\n",
      "863 91 9\n",
      "864 91 9\n",
      "865 91 9\n",
      "866 91 9\n",
      "867 91 9\n",
      "868 91 9\n",
      "869 91 9\n",
      "870 91 9\n",
      "871 91 9\n",
      "872 91 9\n",
      "873 91 9\n",
      "874 91 9\n",
      "875 91 9\n",
      "876 91 9\n",
      "877 91 9\n",
      "878 91 9\n",
      "879 91 9\n",
      "880 91 9\n",
      "881 91 9\n",
      "882 91 9\n",
      "883 91 9\n",
      "884 91 9\n",
      "885 91 9\n",
      "886 91 9\n",
      "887 91 9\n",
      "888 91 9\n",
      "889 91 9\n",
      "890 91 9\n",
      "891 91 9\n",
      "892 91 9\n",
      "893 91 9\n",
      "894 91 9\n",
      "895 91 9\n",
      "896 91 9\n",
      "897 91 9\n",
      "898 91 9\n",
      "899 91 9\n",
      "900 91 9\n",
      "901 91 9\n",
      "902 91 9\n",
      "903 91 9\n",
      "904 91 9\n",
      "905 91 9\n",
      "906 91 9\n",
      "907 91 9\n",
      "908 91 9\n",
      "909 91 9\n",
      "910 91 9\n",
      "911 91 9\n",
      "912 91 9\n",
      "913 91 9\n",
      "914 91 9\n",
      "915 91 9\n",
      "916 91 9\n",
      "917 91 9\n",
      "918 91 9\n",
      "919 91 9\n",
      "920 91 9\n",
      "921 91 9\n",
      "922 91 9\n",
      "923 91 9\n",
      "924 91 9\n",
      "925 91 9\n",
      "926 91 9\n",
      "927 91 9\n",
      "928 91 9\n",
      "929 91 9\n",
      "930 91 9\n",
      "931 91 9\n",
      "932 91 9\n",
      "933 91 9\n",
      "934 91 9\n",
      "935 91 9\n",
      "936 91 9\n",
      "937 91 9\n",
      "938 91 9\n",
      "939 91 9\n",
      "940 91 9\n",
      "941 91 9\n",
      "942 91 9\n",
      "943 91 9\n",
      "944 91 9\n",
      "945 91 9\n",
      "946 91 9\n",
      "947 91 9\n",
      "948 91 9\n",
      "949 91 9\n",
      "950 91 9\n",
      "951 91 9\n",
      "952 91 9\n",
      "953 91 9\n",
      "954 91 9\n",
      "955 91 9\n",
      "956 91 9\n",
      "957 91 9\n",
      "958 91 9\n",
      "959 91 9\n",
      "960 91 9\n",
      "961 91 9\n",
      "962 91 9\n",
      "963 91 9\n",
      "964 91 9\n",
      "965 91 9\n",
      "966 91 9\n",
      "967 91 9\n",
      "968 91 9\n",
      "969 91 9\n",
      "970 91 9\n",
      "971 91 9\n",
      "972 91 9\n",
      "973 91 9\n",
      "974 91 9\n",
      "975 91 9\n",
      "976 91 9\n",
      "977 91 9\n",
      "978 91 9\n",
      "979 91 9\n",
      "980 91 9\n",
      "981 91 9\n",
      "982 91 9\n",
      "983 91 9\n",
      "984 91 9\n",
      "985 91 9\n",
      "986 91 9\n",
      "987 91 9\n",
      "988 91 9\n",
      "989 91 9\n",
      "990 91 9\n",
      "991 91 9\n",
      "992 91 9\n",
      "993 91 9\n",
      "994 91 9\n",
      "995 91 9\n",
      "996 91 9\n",
      "997 91 9\n",
      "998 91 9\n",
      "999 91 9\n"
     ]
    }
   ],
   "source": [
    "for m1 in range(1, 1000):\n",
    "    for m2 in range(1, 100):\n",
    "        a = (A ^ m1) & m2\n",
    "        b = (B ^ m1) & m2\n",
    "        c = np.intersect1d(a, b)\n",
    "        if len(c) == 0 and (len(set(a)) < 4 or len(set(b)) < 4): print(m1, m2, m3, len(set(a)), len(set(b)))"
   ]
  },
  {
   "cell_type": "code",
   "execution_count": 115,
   "metadata": {},
   "outputs": [
    {
     "data": {
      "text/plain": [
       "({0, 8, 10, 18, 24, 26, 66, 72, 90},\n",
       " {2, 3, 16, 17, 19, 27, 65, 67, 73, 80, 81})"
      ]
     },
     "execution_count": 115,
     "metadata": {},
     "output_type": "execute_result"
    }
   ],
   "source": [
    "m1, m2, = 1, 91\n",
    "set((A ^ m1) & m2), set((B ^ m1) & m2)"
   ]
  },
  {
   "cell_type": "code",
   "execution_count": 154,
   "metadata": {},
   "outputs": [
    {
     "name": "stdout",
     "output_type": "stream",
     "text": [
      "86 23 9 3 6\n",
      "86 23 18 3 7\n"
     ]
    }
   ],
   "source": [
    "for m1 in range(1, 100):\n",
    "    for m2 in range(1, 100):\n",
    "        for m3 in range(1, 100):\n",
    "            a = ((A % m1) & m2) % m3\n",
    "            b = ((B % m1) & m2) % m3\n",
    "            c = np.intersect1d(a, b)\n",
    "            if len(c) == 0 and (len(set(a)) < 4 or len(set(b)) < 4): print(m1, m2, m3, len(set(a)), len(set(b)))"
   ]
  },
  {
   "cell_type": "code",
   "execution_count": 140,
   "metadata": {},
   "outputs": [
    {
     "data": {
      "text/plain": [
       "({1, 3, 5}, {0, 2, 4, 6, 7, 8})"
      ]
     },
     "execution_count": 140,
     "metadata": {},
     "output_type": "execute_result"
    }
   ],
   "source": [
    "m1, m2, m3 = 86, 23, 9\n",
    "set(((A % m1) & m2) % m3), set(((B % m1) & m2) % m3)"
   ]
  },
  {
   "cell_type": "code",
   "execution_count": 123,
   "metadata": {},
   "outputs": [],
   "source": [
    "for m1 in range(1, 1000):\n",
    "    for m2 in range(1, 1000):\n",
    "        a = (A ^ m1) % m2\n",
    "        b = (B ^ m1) % m2\n",
    "        c = np.intersect1d(a, b)\n",
    "        if len(c) == 0 and len(set(a)) < 5: print(m1, m2, len(set(a)))"
   ]
  },
  {
   "cell_type": "code",
   "execution_count": 138,
   "metadata": {},
   "outputs": [
    {
     "data": {
      "text/plain": [
       "({1, 33, 35}, {0, 2, 3, 32, 34})"
      ]
     },
     "execution_count": 138,
     "metadata": {},
     "output_type": "execute_result"
    }
   ],
   "source": [
    "m1, m2, = 346, 35\n",
    "set((A % m1) & m2), set((B % m1) & m2)"
   ]
  },
  {
   "cell_type": "code",
   "execution_count": 127,
   "metadata": {},
   "outputs": [
    {
     "data": {
      "text/plain": [
       "({1, 3, 33, 35}, {0, 1, 2, 3, 32, 33, 34, 35})"
      ]
     },
     "execution_count": 127,
     "metadata": {},
     "output_type": "execute_result"
    }
   ],
   "source": [
    "set(A & 35), set(B & 35)"
   ]
  },
  {
   "cell_type": "code",
   "execution_count": 157,
   "metadata": {},
   "outputs": [
    {
     "name": "stdout",
     "output_type": "stream",
     "text": [
      "129 alf   beata\n"
     ]
    }
   ],
   "source": [
    "for i in np.concatenate([A, B]):\n",
    "    x = i + 1\n",
    "    a = \"ablefa t a\"[x%2 or x%96in{54,36,82,8}::2]\n",
    "    b = \"baelaft a\"[(i%86&23)%9in(1,3,5)::2]\n",
    "    if a.strip() != b.strip():\n",
    "        print(i, a, b)\n",
    "        break"
   ]
  },
  {
   "cell_type": "code",
   "execution_count": 156,
   "metadata": {},
   "outputs": [
    {
     "name": "stdout",
     "output_type": "stream",
     "text": [
      "alf \n"
     ]
    }
   ],
   "source": [
    "print('baelaft a'[(int(input())%86&23)%9in(1,3,5)::2])"
   ]
  },
  {
   "cell_type": "code",
   "execution_count": 150,
   "metadata": {},
   "outputs": [],
   "source": [
    "for m1 in range(1, 100):\n",
    "    for m2 in range(1, 1000):\n",
    "        a = (A // m1) % m2\n",
    "        b = (B // m1) % m2\n",
    "        c = np.intersect1d(a, b)\n",
    "        if len(c) == 0 and len(set(a)) < 4: print(m1, m2, len(set(a)))"
   ]
  },
  {
   "cell_type": "code",
   "execution_count": 158,
   "metadata": {},
   "outputs": [
    {
     "data": {
      "text/plain": [
       "({1, 3, 5, 19, 21, 23}, {2, 4, 6, 7, 16, 17, 18, 22})"
      ]
     },
     "execution_count": 158,
     "metadata": {},
     "output_type": "execute_result"
    }
   ],
   "source": [
    "m1, m2, = 86, 23\n",
    "set((A % m1) & m2), set((B % m1) & m2)"
   ]
  },
  {
   "cell_type": "code",
   "execution_count": 159,
   "metadata": {},
   "outputs": [],
   "source": [
    "for i in np.concatenate([A, B]):\n",
    "    x = i + 1\n",
    "    a = \"ablefa t a\"[x%2 or x%96in{54,36,82,8}::2]\n",
    "    b = \"baelaft a\"[(i%346&35)%17in(1,33)::2]\n",
    "    if a.strip() != b.strip():\n",
    "        print(i, a, b)\n",
    "        break"
   ]
  },
  {
   "cell_type": "code",
   "execution_count": 160,
   "metadata": {},
   "outputs": [
    {
     "name": "stdout",
     "output_type": "stream",
     "text": [
      "86 23 9 3 6\n",
      "86 23 18 3 7\n",
      "346 35 9 3 5\n",
      "346 35 12 3 5\n",
      "346 35 13 3 5\n",
      "346 35 14 3 5\n",
      "346 35 17 2 4\n",
      "346 35 18 3 5\n",
      "346 35 19 3 5\n",
      "346 35 20 3 5\n",
      "346 35 21 3 5\n",
      "346 35 22 3 5\n",
      "346 35 23 3 5\n",
      "346 35 24 3 5\n",
      "346 35 25 3 5\n",
      "346 35 26 3 5\n",
      "346 35 27 3 5\n",
      "346 35 28 3 5\n",
      "346 35 29 3 4\n",
      "346 35 34 2 4\n",
      "346 35 36 3 5\n",
      "346 35 37 3 5\n",
      "346 35 38 3 5\n",
      "346 35 39 3 5\n",
      "346 35 40 3 5\n",
      "346 35 41 3 5\n",
      "346 35 42 3 5\n",
      "346 35 43 3 5\n",
      "346 35 44 3 5\n",
      "346 35 45 3 5\n",
      "346 35 46 3 5\n",
      "346 35 47 3 5\n",
      "346 35 48 3 5\n",
      "346 35 49 3 5\n",
      "346 35 50 3 5\n",
      "346 35 51 3 5\n",
      "346 35 52 3 5\n",
      "346 35 53 3 5\n",
      "346 35 54 3 5\n",
      "346 35 55 3 5\n",
      "346 35 56 3 5\n",
      "346 35 57 3 5\n",
      "346 35 58 3 5\n",
      "346 35 59 3 5\n",
      "346 35 60 3 5\n",
      "346 35 61 3 5\n",
      "346 35 62 3 5\n",
      "346 35 63 3 5\n",
      "346 35 64 3 5\n",
      "346 35 65 3 5\n",
      "346 35 66 3 5\n",
      "346 35 67 3 5\n",
      "346 35 68 3 5\n",
      "346 35 69 3 5\n",
      "346 35 70 3 5\n",
      "346 35 71 3 5\n",
      "346 35 72 3 5\n",
      "346 35 73 3 5\n",
      "346 35 74 3 5\n",
      "346 35 75 3 5\n",
      "346 35 76 3 5\n",
      "346 35 77 3 5\n",
      "346 35 78 3 5\n",
      "346 35 79 3 5\n",
      "346 35 80 3 5\n",
      "346 35 81 3 5\n",
      "346 35 82 3 5\n",
      "346 35 83 3 5\n",
      "346 35 84 3 5\n",
      "346 35 85 3 5\n",
      "346 35 86 3 5\n",
      "346 35 87 3 5\n",
      "346 35 88 3 5\n",
      "346 35 89 3 5\n",
      "346 35 90 3 5\n",
      "346 35 91 3 5\n",
      "346 35 92 3 5\n",
      "346 35 93 3 5\n",
      "346 35 94 3 5\n",
      "346 35 95 3 5\n",
      "346 35 96 3 5\n",
      "346 35 97 3 5\n",
      "346 35 98 3 5\n",
      "346 35 99 3 5\n",
      "346 51 34 3 7\n",
      "346 99 64 3 5\n",
      "702 51 9 3 6\n",
      "702 51 18 3 6\n"
     ]
    }
   ],
   "source": [
    "for m1 in range(2, 1000, 2):\n",
    "    for m2 in range(1, 100):\n",
    "        for m3 in range(1, 100):\n",
    "            a = ((A % m1) & m2) % m3\n",
    "            b = ((B % m1) & m2) % m3\n",
    "            c = np.intersect1d(a, b)\n",
    "            if len(c) == 0 and len(set(a)) < 4: print(m1, m2, m3, len(set(a)), len(set(b)))"
   ]
  },
  {
   "cell_type": "code",
   "execution_count": 4,
   "metadata": {},
   "outputs": [
    {
     "data": {
      "text/plain": [
       "(array([     5,    129,    411,    435,    537,    987,    999, 123689,\n",
       "        439827, 478911, 483135, 548937, 549387, 948731, 999995, 999997,\n",
       "        999999]),\n",
       " array([      6,       7,     104,     198,     437,     562,     948,\n",
       "           1000,  109754,  129876,  465512,  587462,  887505,  999971,\n",
       "         999998, 1000000]),\n",
       " array([     7,    437, 887505, 999971]))"
      ]
     },
     "execution_count": 4,
     "metadata": {},
     "output_type": "execute_result"
    }
   ],
   "source": [
    "A,B,C"
   ]
  },
  {
   "cell_type": "code",
   "execution_count": 15,
   "metadata": {},
   "outputs": [
    {
     "name": "stdout",
     "output_type": "stream",
     "text": [
      "58\n",
      "64\n",
      "68\n",
      "74\n",
      "80\n",
      "86\n",
      "88\n",
      "92\n",
      "96\n"
     ]
    }
   ],
   "source": [
    "for i in range(10, 100, 2):\n",
    "    if len(np.intersect1d(A % i, C % i)) == 0:\n",
    "        print(i)"
   ]
  },
  {
   "cell_type": "code",
   "execution_count": 27,
   "metadata": {},
   "outputs": [
    {
     "data": {
      "text/plain": [
       "(array([ 5, 13,  5, 29, 15,  1, 13, 33, 13,  5, 53, 25, 11, 25, 17, 19, 21],\n",
       "       dtype=int32),\n",
       " array([ 6,  7, 46, 24, 31, 40, 20, 14, 18, 14,  4, 38, 47, 51, 20, 22],\n",
       "       dtype=int32),\n",
       " array([ 7, 31, 47, 51], dtype=int32),\n",
       " array([], dtype=int32))"
      ]
     },
     "execution_count": 27,
     "metadata": {},
     "output_type": "execute_result"
    }
   ],
   "source": [
    "M = 58\n",
    "A % M, B % M, C % M, np.intersect1d(A % M, C % M)"
   ]
  },
  {
   "cell_type": "code",
   "execution_count": 30,
   "metadata": {},
   "outputs": [
    {
     "name": "stdout",
     "output_type": "stream",
     "text": [
      "62\n",
      "63\n",
      "90\n",
      "91\n",
      "94\n",
      "95\n",
      "122\n",
      "123\n",
      "126\n",
      "127\n",
      "154\n",
      "155\n",
      "158\n",
      "159\n",
      "182\n",
      "183\n",
      "186\n",
      "187\n",
      "190\n",
      "191\n",
      "218\n",
      "219\n",
      "222\n",
      "223\n",
      "238\n",
      "239\n",
      "246\n",
      "247\n",
      "250\n",
      "251\n",
      "254\n",
      "255\n",
      "282\n",
      "283\n",
      "286\n",
      "287\n",
      "314\n",
      "315\n",
      "318\n",
      "319\n",
      "346\n",
      "347\n",
      "350\n",
      "351\n",
      "366\n",
      "367\n",
      "374\n",
      "375\n",
      "378\n",
      "379\n",
      "382\n",
      "383\n",
      "410\n",
      "411\n",
      "414\n",
      "415\n",
      "438\n",
      "439\n",
      "442\n",
      "443\n",
      "446\n",
      "447\n",
      "474\n",
      "475\n",
      "478\n",
      "479\n",
      "494\n",
      "495\n",
      "502\n",
      "503\n",
      "506\n",
      "507\n",
      "510\n",
      "511\n",
      "542\n",
      "543\n",
      "558\n",
      "559\n",
      "574\n",
      "575\n",
      "602\n",
      "603\n",
      "606\n",
      "607\n",
      "618\n",
      "619\n",
      "622\n",
      "623\n",
      "626\n",
      "627\n",
      "630\n",
      "631\n",
      "634\n",
      "635\n",
      "638\n",
      "639\n",
      "666\n",
      "667\n",
      "670\n",
      "671\n",
      "682\n",
      "683\n",
      "686\n",
      "687\n",
      "690\n",
      "691\n",
      "694\n",
      "695\n",
      "698\n",
      "699\n",
      "702\n",
      "703\n",
      "730\n",
      "731\n",
      "734\n",
      "735\n",
      "746\n",
      "747\n",
      "750\n",
      "751\n",
      "754\n",
      "755\n",
      "758\n",
      "759\n",
      "762\n",
      "763\n",
      "766\n",
      "767\n",
      "794\n",
      "795\n",
      "798\n",
      "799\n",
      "810\n",
      "811\n",
      "814\n",
      "815\n",
      "826\n",
      "827\n",
      "830\n",
      "831\n",
      "858\n",
      "859\n",
      "862\n",
      "863\n",
      "874\n",
      "875\n",
      "878\n",
      "879\n",
      "882\n",
      "883\n",
      "886\n",
      "887\n",
      "890\n",
      "891\n",
      "894\n",
      "895\n",
      "922\n",
      "923\n",
      "926\n",
      "927\n",
      "938\n",
      "939\n",
      "942\n",
      "943\n",
      "946\n",
      "947\n",
      "950\n",
      "951\n",
      "954\n",
      "955\n",
      "958\n",
      "959\n",
      "986\n",
      "987\n",
      "990\n",
      "991\n"
     ]
    }
   ],
   "source": [
    "for i in range(10, 1000):\n",
    "    if len(np.intersect1d(A & i, C & i)) == 0:\n",
    "        print(i)"
   ]
  },
  {
   "cell_type": "code",
   "execution_count": 31,
   "metadata": {},
   "outputs": [
    {
     "data": {
      "text/plain": [
       "(array([ 4,  0, 26, 50, 24, 26, 38, 40, 18, 62, 62,  8, 10, 58, 58, 60, 62],\n",
       "       dtype=int32),\n",
       " array([ 6,  6, 40,  6, 52, 50, 52, 40, 58, 20, 40,  6, 16, 34, 62,  0],\n",
       "       dtype=int32),\n",
       " array([ 6, 52, 16, 34], dtype=int32),\n",
       " array([], dtype=int32))"
      ]
     },
     "execution_count": 31,
     "metadata": {},
     "output_type": "execute_result"
    }
   ],
   "source": [
    "M = 62\n",
    "A & M, B & M, C & M, np.intersect1d(A & M, C & M)"
   ]
  },
  {
   "cell_type": "code",
   "execution_count": 1,
   "metadata": {},
   "outputs": [
    {
     "name": "stdout",
     "output_type": "stream",
     "text": [
      "948:1,104:1,129:0,987:0,411:0,198:1,562:1,537:0,435:0,437:1,999:0,1000:1,948731:0,109754:1,123689:0,549387:0,478911:0,129876:1,587462:1,548937:0,483135:0,439827:0,999999:0,999998:1,999997:0,999995:0,999971:1,887505:1,465512:1,1000000:1,5:0,6:1,7:1\n"
     ]
    }
   ],
   "source": [
    "import os\n",
    "root = \"appelspelet.data/\"\n",
    "A = []\n",
    "B = []\n",
    "S = \"\"\n",
    "for file in os.listdir(os.fsencode(root)):\n",
    "      inname = os.fsdecode(file)\n",
    "      if inname.endswith(\".in\"):\n",
    "         outname = inname[:-2] + \"ans\"\n",
    "         with open(root + inname) as I:\n",
    "            with open(root + outname) as O:\n",
    "               i = I.read()[:-1]\n",
    "               o = O.read()[:-1]\n",
    "               S += i + \":\"\n",
    "               S +=(str) (0 if o == \"alf\" else 1) + \",\"\n",
    "               if o == \"alf\":\n",
    "                  A.append(int(i))\n",
    "               else:\n",
    "                  B.append(int(i))\n",
    "\n",
    "S = S[:-1]\n",
    "print(S)"
   ]
  },
  {
   "cell_type": "code",
   "execution_count": 2,
   "metadata": {},
   "outputs": [
    {
     "data": {
      "text/plain": [
       "(array([ 0, 41, 24, 21,  5, 10, 22, 21, 19, 20, 42, 30, 23, 34, 32, 30,  5],\n",
       "       dtype=int32),\n",
       " array([ 2, 18, 26,  3,  7, 11, 18, 16, 39, 33,  6, 28, 37, 35,  6,  7],\n",
       "       dtype=int32),\n",
       " array([ 7,  7, 28,  6], dtype=int32),\n",
       " array([], dtype=int32))"
      ]
     },
     "execution_count": 2,
     "metadata": {},
     "output_type": "execute_result"
    }
   ],
   "source": [
    "import numpy as np\n",
    "\n",
    "A = np.array(A)\n",
    "B = np.array(B)\n",
    "C = np.array([7, 437, 887505, 999971])\n",
    "\n",
    "M = 43\n",
    "A % M, B % M, C % M, np.intersect1d(A % M, C % M)"
   ]
  },
  {
   "cell_type": "code",
   "execution_count": 3,
   "metadata": {},
   "outputs": [
    {
     "data": {
      "text/plain": [
       "(array([     5,    129,    411,    435,    537,    987,    999, 123689,\n",
       "        439827, 478911, 483135, 548937, 549387, 948731, 999995, 999997,\n",
       "        999999]),\n",
       " array([      6,       7,     104,     198,     437,     562,     948,\n",
       "           1000,  109754,  129876,  465512,  587462,  887505,  999971,\n",
       "         999998, 1000000]),\n",
       " array([     7,    437, 887505, 999971]))"
      ]
     },
     "execution_count": 3,
     "metadata": {},
     "output_type": "execute_result"
    }
   ],
   "source": [
    "A=np.sort(A)\n",
    "B = np.sort(B)\n",
    "C = np.sort(C)\n",
    "A,B,C"
   ]
  },
  {
   "cell_type": "code",
   "execution_count": 27,
   "metadata": {},
   "outputs": [
    {
     "name": "stdout",
     "output_type": "stream",
     "text": [
      "37 [ 5 18  4 28 19 25  0 35  8 20 26  5 11 14 33 35  0] [ 6  7 30 13 30  7 23  1 12  6 15 13 23  9 36  1] []\n",
      "43 [ 5  0 24  5 21 41 10 21 23 20 30 42 19 22 30 32 34] [ 6  7 18 26  7  3  2 11 18 16 37 39 28  6 33 35] []\n",
      "58 [ 5 13  5 29 15  1 13 33 13  5 53 25 11 25 17 19 21] [ 6  7 46 24 31 40 20 14 18 14  4 38 47 51 20 22] []\n",
      "64 [ 5  1 27 51 25 27 39 41 19 63 63  9 11 59 59 61 63] [ 6  7 40  6 53 50 52 40 58 20 40  6 17 35 62  0] []\n",
      "68 [ 5 61  3 27 61 35 47 65  3 55 63 41 15 63 55 57 59] [ 6  7 36 62 29 18 64 48  2 64 52 10 37 31 58 60] []\n",
      "74 [ 5 55 41 65 19 25 37 35 45 57 63  5 11 51 33 35 37] [ 6  7 30 50 67 44 60 38 12  6 52 50 23  9 36 38] []\n",
      "75 [ 5 54 36 60 12 12 24 14 27 36 60 12 12 56 20 22 24] [ 6  7 29 48 62 37 48 25 29 51 62 62 30 71 23 25] []\n",
      "80 [ 5 49 11 35 57 27 39  9 67 31 15 57 27 11 75 77 79] [ 6  7 24 38 37  2 68 40 74 36 72 22 65 51 78  0] []\n",
      "83 [ 5 46 79 20 39 74  3 19 10  1 75 58 10 41 11 13 15] [ 6  7 21 32 22 64 35  4 28 64 48 71 69 70 14 16] []\n",
      "86 [ 5 43 67  5 21 41 53 21 23 63 73 85 19 65 73 75 77] [ 6  7 18 26  7 46  2 54 18 16 80 82 71 49 76 78] []\n",
      "88 [ 5 41 59 83  9 19 31 49  3 15 15 81  3  3 51 53 55] [ 6  7 16 22 85 34 68 32 18 76 80 62 25 27 54 56] []\n",
      "92 [ 5 37 43 67 77 67 79 41 67 51 43 65 55 27 47 49 51] [ 6  7 12 14 69 10 28 80 90 64 84 42 73 23 50 52] []\n",
      "93 [ 5 36 39 63 72 57 69 92 30 54  0 51 36 38 59 61 63] [ 6  7 11 12 65  4 18 70 14 48 47 74  6 35 62 64] []\n",
      "96 [ 5 33 27 51 57 27 39 41 51 63 63  9 75 59 59 61 63] [ 6  7  8  6 53 82 84 40 26 84  8 38 81 35 62 64] []\n"
     ]
    }
   ],
   "source": [
    "for M in range(2, 100):\n",
    "    if len(np.intersect1d(A % M, B % M)) == 0:\n",
    "        print(M, A % M, B % M, np.intersect1d(A % M, B % M))"
   ]
  },
  {
   "cell_type": "code",
   "execution_count": 11,
   "metadata": {},
   "outputs": [
    {
     "name": "stdout",
     "output_type": "stream",
     "text": [
      "37 [ 5 18  4 28 19 25  0 35  8 20 26  5 11 14 33 35  0] [ 6  7 30 13 30  7 23  1 12  6 15 13 23  9 36  1] []\n"
     ]
    }
   ],
   "source": [
    "M = 37\n",
    "print(M, A % M, B % M, np.intersect1d(A % M, B % M))"
   ]
  },
  {
   "cell_type": "code",
   "execution_count": 35,
   "metadata": {},
   "outputs": [
    {
     "data": {
      "text/plain": [
       "'01__001101_01101__000__1_00_0_1__0_01'"
      ]
     },
     "execution_count": 35,
     "metadata": {},
     "output_type": "execute_result"
    }
   ],
   "source": [
    "M = 37\n",
    "S = [\"_\"] * M\n",
    "for i in range(M):\n",
    "    if i in A % M:\n",
    "        S[i] = \"0\"\n",
    "    elif i in B % M:\n",
    "        S[i] = \"1\"\n",
    "\"\".join(S)"
   ]
  },
  {
   "cell_type": "code",
   "execution_count": 34,
   "metadata": {},
   "outputs": [
    {
     "data": {
      "text/plain": [
       "'_0__1011___0_010_010101_10___0_1_0____1_1_____11___1_0____'"
      ]
     },
     "execution_count": 34,
     "metadata": {},
     "output_type": "execute_result"
    }
   ],
   "source": [
    "M = 58\n",
    "S = [\"_\"] * M\n",
    "for i in range(M):\n",
    "    if i in A % M:\n",
    "        S[i] = \"0\"\n",
    "    elif i in B % M:\n",
    "        S[i] = \"1\"\n",
    "\"\".join(S)"
   ]
  },
  {
   "cell_type": "code",
   "execution_count": 33,
   "metadata": {},
   "outputs": [
    {
     "data": {
      "text/plain": [
       "'_____011_1_01______0___1_0____1__0_0101__0__10____101__0_0__1__0_0_1______'"
      ]
     },
     "execution_count": 33,
     "metadata": {},
     "output_type": "execute_result"
    }
   ],
   "source": [
    "M = 74\n",
    "S = [\"_\"] * M\n",
    "for i in range(M):\n",
    "    if i in A % M:\n",
    "        S[i] = \"0\"\n",
    "    elif i in B % M:\n",
    "        S[i] = \"1\"\n",
    "\"\".join(S)"
   ]
  },
  {
   "cell_type": "code",
   "execution_count": 32,
   "metadata": {},
   "outputs": [
    {
     "data": {
      "text/plain": [
       "'_____011____0_0_____0_0101_0_11_____01__________1__1__0_0___0_1________1___'"
      ]
     },
     "execution_count": 32,
     "metadata": {},
     "output_type": "execute_result"
    }
   ],
   "source": [
    "M = 75\n",
    "S = [\"_\"] * M\n",
    "for i in range(M):\n",
    "    if i in A % M:\n",
    "        S[i] = \"0\"\n",
    "    elif i in B % M:\n",
    "        S[i] = \"1\"\n",
    "\"\".join(S)"
   ]
  },
  {
   "cell_type": "code",
   "execution_count": null,
   "metadata": {},
   "outputs": [],
   "source": []
  }
 ],
 "metadata": {
  "kernelspec": {
   "display_name": ".venv",
   "language": "python",
   "name": "python3"
  },
  "language_info": {
   "codemirror_mode": {
    "name": "ipython",
    "version": 3
   },
   "file_extension": ".py",
   "mimetype": "text/x-python",
   "name": "python",
   "nbconvert_exporter": "python",
   "pygments_lexer": "ipython3",
   "version": "3.9.10"
  },
  "orig_nbformat": 4
 },
 "nbformat": 4,
 "nbformat_minor": 2
}
