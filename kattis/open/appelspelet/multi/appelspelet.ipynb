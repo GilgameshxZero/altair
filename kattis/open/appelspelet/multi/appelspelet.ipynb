{
 "cells": [
  {
   "cell_type": "code",
   "execution_count": 1,
   "metadata": {},
   "outputs": [],
   "source": [
    "D={948:1,104:1,129:0,987:0,411:0,198:1,562:1,537:0,435:0,437:1,999:0,1000:1,948731:0,109754:1,123689:0,549387:0,478911:0,129876:1,587462:1,548937:0,483135:0,439827:0,999999:0,999998:1,999997:0,999995:0,999971:1,887505:1,465512:1,1000000:1,5:0,6:1,7:1}"
   ]
  },
  {
   "cell_type": "code",
   "execution_count": 2,
   "metadata": {},
   "outputs": [],
   "source": [
    "for key in D:\n",
    "    with open(f\"{'alf' if D[key] == 0 else 'beata'}.{key}\", \"w\") as f:\n",
    "        pass"
   ]
  },
  {
   "cell_type": "code",
   "execution_count": null,
   "metadata": {},
   "outputs": [],
   "source": []
  }
 ],
 "metadata": {
  "kernelspec": {
   "display_name": ".venv",
   "language": "python",
   "name": "python3"
  },
  "language_info": {
   "codemirror_mode": {
    "name": "ipython",
    "version": 3
   },
   "file_extension": ".py",
   "mimetype": "text/x-python",
   "name": "python",
   "nbconvert_exporter": "python",
   "pygments_lexer": "ipython3",
   "version": "3.9.13"
  }
 },
 "nbformat": 4,
 "nbformat_minor": 2
}
