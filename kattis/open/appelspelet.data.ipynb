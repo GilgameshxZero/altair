{
 "cells": [
  {
   "cell_type": "code",
   "execution_count": 20,
   "metadata": {},
   "outputs": [
    {
     "name": "stdout",
     "output_type": "stream",
     "text": [
      "948:1,104:1,129:0,987:0,411:0,198:1,562:1,537:0,435:0,437:1,999:0,1000:1,948731:0,109754:1,123689:0,549387:0,478911:0,129876:1,587462:1,548937:0,483135:0,439827:0,999999:0,999998:1,999997:0,999995:0,999971:1,887505:1,465512:1,1000000:1,5:0,6:1,7:1\n"
     ]
    }
   ],
   "source": [
    "import os\n",
    "root = \"appelspelet.data/\"\n",
    "A = []\n",
    "B = []\n",
    "S = \"\"\n",
    "for file in os.listdir(os.fsencode(root)):\n",
    "      inname = os.fsdecode(file)\n",
    "      if inname.endswith(\".in\"):\n",
    "         outname = inname[:-2] + \"ans\"\n",
    "         with open(root + inname) as I:\n",
    "            with open(root + outname) as O:\n",
    "               i = I.read()[:-1]\n",
    "               o = O.read()[:-1]\n",
    "               S += i + \":\"\n",
    "               S +=(str) (0 if o == \"alf\" else 1) + \",\"\n",
    "               if o == \"alf\":\n",
    "                  A.append(int(i))\n",
    "               else:\n",
    "                  B.append(int(i))\n",
    "\n",
    "S = S[:-1]\n",
    "print(S)"
   ]
  },
  {
   "cell_type": "code",
   "execution_count": 20,
   "metadata": {},
   "outputs": [
    {
     "name": "stdout",
     "output_type": "stream",
     "text": [
      "beata\n"
     ]
    }
   ],
   "source": [
    "D={948:1,104:1,129:0,987:0,411:0,198:1,562:1,537:0,435:0,437:1,999:0,1000:1,948731:0,109754:1,123689:0,549387:0,478911:0,129876:1,587462:1,548937:0,483135:0,439827:0,999999:0,999998:1,999997:0,999995:0,999971:1,887505:1,465512:1,1000000:1,5:0,6:1,7:1}\n",
    "N = int(input())\n",
    "print(\"alf\" if D[N] == 0 else \"beata\")"
   ]
  },
  {
   "cell_type": "code",
   "execution_count": 21,
   "metadata": {},
   "outputs": [
    {
     "data": {
      "text/plain": [
       "{948: 1,\n",
       " 104: 1,\n",
       " 129: 0,\n",
       " 987: 0,\n",
       " 411: 0,\n",
       " 198: 1,\n",
       " 562: 1,\n",
       " 537: 0,\n",
       " 435: 0,\n",
       " 437: 1,\n",
       " 999: 0,\n",
       " 1000: 1,\n",
       " 948731: 0,\n",
       " 109754: 1,\n",
       " 123689: 0,\n",
       " 549387: 0,\n",
       " 478911: 0,\n",
       " 129876: 1,\n",
       " 587462: 1,\n",
       " 548937: 0,\n",
       " 483135: 0,\n",
       " 439827: 0,\n",
       " 999999: 0,\n",
       " 999998: 1,\n",
       " 999997: 0,\n",
       " 999995: 0,\n",
       " 999971: 1,\n",
       " 887505: 1,\n",
       " 465512: 1,\n",
       " 1000000: 1,\n",
       " 5: 0,\n",
       " 6: 1,\n",
       " 7: 1}"
      ]
     },
     "execution_count": 21,
     "metadata": {},
     "output_type": "execute_result"
    }
   ],
   "source": [
    "D"
   ]
  },
  {
   "cell_type": "code",
   "execution_count": 22,
   "metadata": {},
   "outputs": [
    {
     "name": "stdout",
     "output_type": "stream",
     "text": [
      "948,104,198,562,437,1000,109754,129876,587462,999998,999971,887505,465512,1000000,6,7\n"
     ]
    }
   ],
   "source": [
    "S = \"\"\n",
    "for file in os.listdir(os.fsencode(root)):\n",
    "      inname = os.fsdecode(file)\n",
    "      if inname.endswith(\".in\"):\n",
    "         outname = inname[:-2] + \"ans\"\n",
    "         with open(root + inname) as I:\n",
    "            with open(root + outname) as O:\n",
    "                if O.read()[:-1] == \"beata\":\n",
    "                    S += I.read()[:-1] + \",\"\n",
    "\n",
    "S = S[:-1]\n",
    "print(S)"
   ]
  },
  {
   "cell_type": "code",
   "execution_count": 31,
   "metadata": {},
   "outputs": [
    {
     "name": "stdout",
     "output_type": "stream",
     "text": [
      "beata\n"
     ]
    }
   ],
   "source": [
    "print(\"beata\"if int(input())in{948,104,198,562,437,1000,109754,129876,587462,999998,999971,887505,465512,1000000,6,7}else\"alf\")"
   ]
  },
  {
   "cell_type": "code",
   "execution_count": 26,
   "metadata": {},
   "outputs": [
    {
     "data": {
      "text/plain": [
       "{6,\n",
       " 7,\n",
       " 104,\n",
       " 198,\n",
       " 437,\n",
       " 562,\n",
       " 948,\n",
       " 1000,\n",
       " 109754,\n",
       " 129876,\n",
       " 465512,\n",
       " 587462,\n",
       " 887505,\n",
       " 999971,\n",
       " 999998,\n",
       " 1000000}"
      ]
     },
     "execution_count": 26,
     "metadata": {},
     "output_type": "execute_result"
    }
   ],
   "source": [
    "S"
   ]
  },
  {
   "cell_type": "code",
   "execution_count": 15,
   "metadata": {},
   "outputs": [
    {
     "name": "stdout",
     "output_type": "stream",
     "text": [
      "beata\n"
     ]
    }
   ],
   "source": [
    "x=int(input())+1\n",
    "print(\"ablefa t a\"[x%2 or x in{438,999972,887506,8}::2])"
   ]
  },
  {
   "cell_type": "code",
   "execution_count": 167,
   "metadata": {},
   "outputs": [
    {
     "data": {
      "text/plain": [
       "(array([ 0, 41, 24, 21,  5, 10, 22, 21, 19, 20, 42, 30, 23, 34, 32, 30,  5],\n",
       "       dtype=int32),\n",
       " array([ 2, 18, 26,  3,  7, 11, 18, 16, 39, 33,  6, 28, 37, 35,  6,  7],\n",
       "       dtype=int32),\n",
       " array([ 7,  7, 28,  6], dtype=int32),\n",
       " array([], dtype=int32))"
      ]
     },
     "execution_count": 167,
     "metadata": {},
     "output_type": "execute_result"
    }
   ],
   "source": [
    "import numpy as np\n",
    "\n",
    "A = np.array(A)\n",
    "B = np.array(B)\n",
    "C = np.array([7, 437, 887505, 999971])\n",
    "\n",
    "M = 43\n",
    "A % M, B % M, C % M, np.intersect1d(A % M, C % M)"
   ]
  },
  {
   "cell_type": "code",
   "execution_count": 89,
   "metadata": {},
   "outputs": [
    {
     "name": "stdout",
     "output_type": "stream",
     "text": [
      "beata\n"
     ]
    }
   ],
   "source": [
    "x=int(input())+1\n",
    "print(\"ablefa t a\"[x%2 or x%96 in{54,36,82,8}::2])"
   ]
  },
  {
   "cell_type": "code",
   "execution_count": 97,
   "metadata": {},
   "outputs": [
    {
     "name": "stdout",
     "output_type": "stream",
     "text": [
      "beata\n"
     ]
    }
   ],
   "source": [
    "x=int(input())+1\n",
    "print(\"ablefa t a\"[x%2 or x%86 in{8,50,72}::2])"
   ]
  },
  {
   "cell_type": "code",
   "execution_count": 88,
   "metadata": {},
   "outputs": [
    {
     "name": "stdout",
     "output_type": "stream",
     "text": [
      "999971 True False\n"
     ]
    }
   ],
   "source": [
    "for i in np.concatenate([A, B]):\n",
    "    x = i + 1\n",
    "    a = x%2 or x%96 in{54,36,82,8}\n",
    "    b = x%2 or x%86 in{8,40,72}\n",
    "    if a != b:\n",
    "        print(i, a, b)\n",
    "        break"
   ]
  },
  {
   "cell_type": "code",
   "execution_count": 133,
   "metadata": {},
   "outputs": [
    {
     "name": "stdout",
     "output_type": "stream",
     "text": [
      "alf  \n"
     ]
    }
   ],
   "source": [
    "print(\"ablefa t a\"[(x:=1+int(input())%86)in{8,50,72}or x%2::2])"
   ]
  },
  {
   "cell_type": "code",
   "execution_count": 153,
   "metadata": {},
   "outputs": [
    {
     "data": {
      "text/plain": [
       "(array([   430, 887068, 112466]), 2, 2)"
      ]
     },
     "execution_count": 153,
     "metadata": {},
     "output_type": "execute_result"
    }
   ],
   "source": [
    "D = (C - np.roll(C, 1))[1:]\n",
    "D, np.gcd.reduce(D), np.gcd.reduce(D[:-1])\n"
   ]
  },
  {
   "cell_type": "code",
   "execution_count": 156,
   "metadata": {},
   "outputs": [
    {
     "data": {
      "text/plain": [
       "2"
      ]
     },
     "execution_count": 156,
     "metadata": {},
     "output_type": "execute_result"
    }
   ],
   "source": [
    "np.gcd(887505-7,430)"
   ]
  },
  {
   "cell_type": "code",
   "execution_count": 159,
   "metadata": {},
   "outputs": [
    {
     "data": {
      "text/plain": [
       "2"
      ]
     },
     "execution_count": 159,
     "metadata": {},
     "output_type": "execute_result"
    }
   ],
   "source": [
    "np.gcd(999971-437,887505-437)"
   ]
  },
  {
   "cell_type": "code",
   "execution_count": 175,
   "metadata": {},
   "outputs": [
    {
     "name": "stdout",
     "output_type": "stream",
     "text": [
      "beata\n",
      "[   129    987    411    537    435    999 948731 123689 549387 478911\n",
      " 548937 483135 439827 999999 999997 999995      5] [    948     104     198     562     437    1000  109754  129876  587462\n",
      "  999998  999971  887505  465512 1000000       6       7]\n"
     ]
    }
   ],
   "source": [
    "print(\"ablefa t a\"[((x:=1+int(input())%43)in{7,8,29})or x%2::2])\n",
    "print(A, B)"
   ]
  },
  {
   "cell_type": "code",
   "execution_count": 192,
   "metadata": {},
   "outputs": [
    {
     "ename": "SyntaxError",
     "evalue": "invalid syntax (737784439.py, line 4)",
     "output_type": "error",
     "traceback": [
      "\u001b[1;36m  Cell \u001b[1;32mIn[192], line 4\u001b[1;36m\u001b[0m\n\u001b[1;33m    b = \"ablefa t a\"(x:=1+int(input()))%43in{7,8,29}or~x%2::2]\u001b[0m\n\u001b[1;37m                                                          ^\u001b[0m\n\u001b[1;31mSyntaxError\u001b[0m\u001b[1;31m:\u001b[0m invalid syntax\n"
     ]
    }
   ],
   "source": [
    "for i in np.concatenate([A, B]):\n",
    "    x = i + 1\n",
    "    a = \"ablefa t a\"[x%2 or x%96 in{54,36,82,8}::2]\n",
    "    b = \"ablefa t a\"(x:=1+int(input()))%43in{7,8,29}or x%2::2]\n",
    "    if a != b:\n",
    "        print(i, a, b)\n",
    "        break"
   ]
  },
  {
   "cell_type": "code",
   "execution_count": 187,
   "metadata": {},
   "outputs": [
    {
     "data": {
      "text/plain": [
       "(False, 0)"
      ]
     },
     "execution_count": 187,
     "metadata": {},
     "output_type": "execute_result"
    }
   ],
   "source": [
    "i = 129\n",
    "x = i + 1\n",
    "x%2 or x%96 in{54,36,82,8}, (x:=1+i)%43in{7,8,29}or x%2"
   ]
  },
  {
   "cell_type": "code",
   "execution_count": 181,
   "metadata": {},
   "outputs": [
    {
     "data": {
      "text/plain": [
       "34"
      ]
     },
     "execution_count": 181,
     "metadata": {},
     "output_type": "execute_result"
    }
   ],
   "source": [
    "130%96"
   ]
  },
  {
   "cell_type": "code",
   "execution_count": 182,
   "metadata": {},
   "outputs": [
    {
     "data": {
      "text/plain": [
       "False"
      ]
     },
     "execution_count": 182,
     "metadata": {},
     "output_type": "execute_result"
    }
   ],
   "source": [
    "(x:=1+i%43)in{7,8,29}"
   ]
  },
  {
   "cell_type": "code",
   "execution_count": 190,
   "metadata": {},
   "outputs": [
    {
     "name": "stdout",
     "output_type": "stream",
     "text": [
      "alf  \n"
     ]
    }
   ],
   "source": [
    "print(\"ablefa t a\"[((x:=1+int(input()))%43in{7,8,29})or x%2::2])"
   ]
  },
  {
   "cell_type": "code",
   "execution_count": 393,
   "metadata": {},
   "outputs": [],
   "source": [
    "for i in np.concatenate([A, B]):\n",
    "    x = i + 1\n",
    "    a = \"ablefa t a\"[x%2 or x%96in{54,36,82,8}::2]\n",
    "    b = \"baelaft a\"[(x:=i%86%42%22)%2-(x==7)::2]\n",
    "    if a.strip() != b.strip():\n",
    "        print(i, a, b)\n",
    "        break"
   ]
  },
  {
   "cell_type": "code",
   "execution_count": 233,
   "metadata": {},
   "outputs": [
    {
     "data": {
      "text/plain": [
       "False"
      ]
     },
     "execution_count": 233,
     "metadata": {},
     "output_type": "execute_result"
    }
   ],
   "source": [
    "i = 129\n",
    "i%43in{6,7,28}"
   ]
  },
  {
   "cell_type": "code",
   "execution_count": 262,
   "metadata": {},
   "outputs": [
    {
     "name": "stdout",
     "output_type": "stream",
     "text": [
      "alf  \n"
     ]
    }
   ],
   "source": [
    "print(\"ablefa t a\"[(x:=int(input()))%86%42%22==7or~x%2::2])"
   ]
  },
  {
   "cell_type": "code",
   "execution_count": 387,
   "metadata": {},
   "outputs": [
    {
     "data": {
      "text/plain": [
       "(array([ 5,  1,  3,  5, 21, 19, 11, 21,  1, 21,  9,  1, 19,  1,  9, 11, 13],\n",
       "       dtype=int32),\n",
       " array([ 6,  7, 18,  4,  7,  4,  2, 12, 18, 16, 16, 18,  7,  7, 12, 14],\n",
       "       dtype=int32),\n",
       " array([7, 7, 7, 7], dtype=int32),\n",
       " array([], dtype=int32))"
      ]
     },
     "execution_count": 387,
     "metadata": {},
     "output_type": "execute_result"
    }
   ],
   "source": [
    "import numpy as np\n",
    "\n",
    "A = np.array(A)\n",
    "B = np.array(B)\n",
    "C = np.array([7, 437, 887505, 999971])\n",
    "\n",
    "M = 86\n",
    "O = 42\n",
    "P = 22\n",
    "Q = 22\n",
    "A % M % O % P % Q, B % M % O % P % Q, C % M % O % P % Q, np.intersect1d(A % M % O % P % Q, C % M % O % P % Q)"
   ]
  },
  {
   "cell_type": "code",
   "execution_count": 294,
   "metadata": {},
   "outputs": [
    {
     "data": {
      "text/plain": [
       "(array([     5,    129,    411,    435,    537,    987,    999, 123689,\n",
       "        439827, 478911, 483135, 548937, 549387, 948731, 999995, 999997,\n",
       "        999999]),\n",
       " array([      6,       7,     104,     198,     437,     562,     948,\n",
       "           1000,  109754,  129876,  465512,  587462,  887505,  999971,\n",
       "         999998, 1000000]),\n",
       " array([     7,    437, 887505, 999971]))"
      ]
     },
     "execution_count": 294,
     "metadata": {},
     "output_type": "execute_result"
    }
   ],
   "source": [
    "A=np.sort(A)\n",
    "B = np.sort(B)\n",
    "C = np.sort(C)\n",
    "A,B,C"
   ]
  },
  {
   "cell_type": "code",
   "execution_count": 299,
   "metadata": {},
   "outputs": [
    {
     "data": {
      "text/plain": [
       "(array([ 1.60943791,  4.8598124 ,  6.01859321,  6.07534603,  6.28599809,\n",
       "         6.89467004,  6.90675478, 11.72552563, 12.99413675, 13.07927006,\n",
       "        13.0880514 , 13.21573896, 13.21655839, 13.76288058, 13.81550556,\n",
       "        13.81550756, 13.81550956]),\n",
       " array([ 1.94591015,  6.0799332 , 13.69616943, 13.81548156]))"
      ]
     },
     "execution_count": 299,
     "metadata": {},
     "output_type": "execute_result"
    }
   ],
   "source": [
    "np.log(A),np.log(C)"
   ]
  },
  {
   "cell_type": "code",
   "execution_count": 342,
   "metadata": {},
   "outputs": [
    {
     "data": {
      "text/plain": [
       "'680'"
      ]
     },
     "execution_count": 342,
     "metadata": {},
     "output_type": "execute_result"
    }
   ],
   "source": [
    "\"1234567890\"[-5::2]"
   ]
  },
  {
   "cell_type": "code",
   "execution_count": null,
   "metadata": {},
   "outputs": [],
   "source": []
  },
  {
   "cell_type": "code",
   "execution_count": null,
   "metadata": {},
   "outputs": [
    {
     "data": {
      "text/plain": [
       "(array([   430, 887068, 112466]), 2, 2)"
      ]
     },
     "metadata": {},
     "output_type": "display_data"
    }
   ],
   "source": [
    "D = (C - np.roll(C, 1))[1:]\n",
    "D, np.gcd.reduce(D), np.gcd.reduce(D[:-1])\n"
   ]
  },
  {
   "cell_type": "code",
   "execution_count": 470,
   "metadata": {},
   "outputs": [
    {
     "data": {
      "text/plain": [
       "(array([ 5,  1,  3,  5, 21, 19, 11, 21,  1, 21,  9,  1, 19,  1,  9, 11, 13],\n",
       "       dtype=int32),\n",
       " array([ 6,  7, 18,  4,  7,  4,  2, 12, 18, 16, 16, 18,  7,  7, 12, 14],\n",
       "       dtype=int32),\n",
       " array([7, 7, 7, 7], dtype=int32),\n",
       " array([], dtype=int32))"
      ]
     },
     "execution_count": 470,
     "metadata": {},
     "output_type": "execute_result"
    }
   ],
   "source": [
    "M = 86\n",
    "O = 42\n",
    "P = 22\n",
    "\n",
    "X = A % M % O % P\n",
    "Y = B % M % O % P\n",
    "Z = C % M % O % P\n",
    "# X -= 6\n",
    "# Y -= 6\n",
    "# Z -= 6\n",
    "# X = X % 2 * (X - 1)\n",
    "# Y = Y % 2 * (Y - 1)\n",
    "# Z = Z % 2 * (Z - 1)\n",
    "X, Y, Z, np.intersect1d(X,Z)"
   ]
  },
  {
   "cell_type": "code",
   "execution_count": 477,
   "metadata": {},
   "outputs": [
    {
     "name": "stdout",
     "output_type": "stream",
     "text": [
      "alf \n"
     ]
    }
   ],
   "source": [
    "print(\"baelaft a\"[(x:=int(input())%86%42%22)%2-(x==7)::2])"
   ]
  },
  {
   "cell_type": "code",
   "execution_count": null,
   "metadata": {},
   "outputs": [],
   "source": [
    "print(\"ablefa t a\"[(x:=int(input()))%86%42%22==7or~x%2::2])"
   ]
  },
  {
   "cell_type": "code",
   "execution_count": 484,
   "metadata": {},
   "outputs": [
    {
     "name": "stdout",
     "output_type": "stream",
     "text": [
      "alf \n"
     ]
    }
   ],
   "source": [
    "print(\"baelaft a\"[(x:=int(input())%86%42%22-6)%2or~x-1::2])"
   ]
  },
  {
   "cell_type": "code",
   "execution_count": 478,
   "metadata": {},
   "outputs": [
    {
     "ename": "SyntaxError",
     "evalue": "invalid syntax (2945786123.py, line 1)",
     "output_type": "error",
     "traceback": [
      "\u001b[1;36m  Cell \u001b[1;32mIn[478], line 1\u001b[1;36m\u001b[0m\n\u001b[1;33m    print(\"baelaft a\"[(x:=int(input())%86%42%22)is7::2])\u001b[0m\n\u001b[1;37m                                                ^\u001b[0m\n\u001b[1;31mSyntaxError\u001b[0m\u001b[1;31m:\u001b[0m invalid syntax\n"
     ]
    }
   ],
   "source": [
    "print(\"baelaft a\"[(x:=int(input())%86%42%22)%2==7::2])"
   ]
  }
 ],
 "metadata": {
  "kernelspec": {
   "display_name": ".venv",
   "language": "python",
   "name": "python3"
  },
  "language_info": {
   "codemirror_mode": {
    "name": "ipython",
    "version": 3
   },
   "file_extension": ".py",
   "mimetype": "text/x-python",
   "name": "python",
   "nbconvert_exporter": "python",
   "pygments_lexer": "ipython3",
   "version": "3.9.10"
  },
  "orig_nbformat": 4
 },
 "nbformat": 4,
 "nbformat_minor": 2
}
