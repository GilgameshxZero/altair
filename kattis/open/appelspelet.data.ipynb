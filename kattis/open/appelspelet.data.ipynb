{
 "cells": [
  {
   "cell_type": "code",
   "execution_count": 16,
   "metadata": {},
   "outputs": [
    {
     "name": "stdout",
     "output_type": "stream",
     "text": [
      "948:1,104:1,129:0,987:0,411:0,198:1,562:1,537:0,435:0,437:1,999:0,1000:1,948731:0,109754:1,123689:0,549387:0,478911:0,129876:1,587462:1,548937:0,483135:0,439827:0,999999:0,999998:1,999997:0,999995:0,999971:1,887505:1,465512:1,1000000:1,5:0,6:1,7:1\n"
     ]
    }
   ],
   "source": [
    "import os\n",
    "root = \"appelspelet.data/\"\n",
    "S = \"\"\n",
    "for file in os.listdir(os.fsencode(root)):\n",
    "      inname = os.fsdecode(file)\n",
    "      if inname.endswith(\".in\"):\n",
    "         outname = inname[:-2] + \"ans\"\n",
    "         with open(root + inname) as I:\n",
    "            with open(root + outname) as O:\n",
    "               S += I.read()[:-1] + \":\"\n",
    "               S +=(str) (0 if O.read()[:-1] == \"alf\" else 1) + \",\"\n",
    "\n",
    "S = S[:-1]\n",
    "print(S)"
   ]
  },
  {
   "cell_type": "code",
   "execution_count": 20,
   "metadata": {},
   "outputs": [
    {
     "name": "stdout",
     "output_type": "stream",
     "text": [
      "beata\n"
     ]
    }
   ],
   "source": [
    "D={948:1,104:1,129:0,987:0,411:0,198:1,562:1,537:0,435:0,437:1,999:0,1000:1,948731:0,109754:1,123689:0,549387:0,478911:0,129876:1,587462:1,548937:0,483135:0,439827:0,999999:0,999998:1,999997:0,999995:0,999971:1,887505:1,465512:1,1000000:1,5:0,6:1,7:1}\n",
    "N = int(input())\n",
    "print(\"alf\" if D[N] == 0 else \"beata\")"
   ]
  },
  {
   "cell_type": "code",
   "execution_count": 21,
   "metadata": {},
   "outputs": [
    {
     "data": {
      "text/plain": [
       "{948: 1,\n",
       " 104: 1,\n",
       " 129: 0,\n",
       " 987: 0,\n",
       " 411: 0,\n",
       " 198: 1,\n",
       " 562: 1,\n",
       " 537: 0,\n",
       " 435: 0,\n",
       " 437: 1,\n",
       " 999: 0,\n",
       " 1000: 1,\n",
       " 948731: 0,\n",
       " 109754: 1,\n",
       " 123689: 0,\n",
       " 549387: 0,\n",
       " 478911: 0,\n",
       " 129876: 1,\n",
       " 587462: 1,\n",
       " 548937: 0,\n",
       " 483135: 0,\n",
       " 439827: 0,\n",
       " 999999: 0,\n",
       " 999998: 1,\n",
       " 999997: 0,\n",
       " 999995: 0,\n",
       " 999971: 1,\n",
       " 887505: 1,\n",
       " 465512: 1,\n",
       " 1000000: 1,\n",
       " 5: 0,\n",
       " 6: 1,\n",
       " 7: 1}"
      ]
     },
     "execution_count": 21,
     "metadata": {},
     "output_type": "execute_result"
    }
   ],
   "source": [
    "D"
   ]
  },
  {
   "cell_type": "code",
   "execution_count": 22,
   "metadata": {},
   "outputs": [
    {
     "name": "stdout",
     "output_type": "stream",
     "text": [
      "948,104,198,562,437,1000,109754,129876,587462,999998,999971,887505,465512,1000000,6,7\n"
     ]
    }
   ],
   "source": [
    "S = \"\"\n",
    "for file in os.listdir(os.fsencode(root)):\n",
    "      inname = os.fsdecode(file)\n",
    "      if inname.endswith(\".in\"):\n",
    "         outname = inname[:-2] + \"ans\"\n",
    "         with open(root + inname) as I:\n",
    "            with open(root + outname) as O:\n",
    "                if O.read()[:-1] == \"beata\":\n",
    "                    S += I.read()[:-1] + \",\"\n",
    "\n",
    "S = S[:-1]\n",
    "print(S)"
   ]
  },
  {
   "cell_type": "code",
   "execution_count": 31,
   "metadata": {},
   "outputs": [
    {
     "name": "stdout",
     "output_type": "stream",
     "text": [
      "beata\n"
     ]
    }
   ],
   "source": [
    "print(\"beata\"if int(input())in{948,104,198,562,437,1000,109754,129876,587462,999998,999971,887505,465512,1000000,6,7}else\"alf\")"
   ]
  },
  {
   "cell_type": "code",
   "execution_count": 26,
   "metadata": {},
   "outputs": [
    {
     "data": {
      "text/plain": [
       "{6,\n",
       " 7,\n",
       " 104,\n",
       " 198,\n",
       " 437,\n",
       " 562,\n",
       " 948,\n",
       " 1000,\n",
       " 109754,\n",
       " 129876,\n",
       " 465512,\n",
       " 587462,\n",
       " 887505,\n",
       " 999971,\n",
       " 999998,\n",
       " 1000000}"
      ]
     },
     "execution_count": 26,
     "metadata": {},
     "output_type": "execute_result"
    }
   ],
   "source": [
    "S"
   ]
  },
  {
   "cell_type": "code",
   "execution_count": null,
   "metadata": {},
   "outputs": [],
   "source": []
  }
 ],
 "metadata": {
  "kernelspec": {
   "display_name": ".venv",
   "language": "python",
   "name": "python3"
  },
  "language_info": {
   "codemirror_mode": {
    "name": "ipython",
    "version": 3
   },
   "file_extension": ".py",
   "mimetype": "text/x-python",
   "name": "python",
   "nbconvert_exporter": "python",
   "pygments_lexer": "ipython3",
   "version": "3.9.10"
  },
  "orig_nbformat": 4
 },
 "nbformat": 4,
 "nbformat_minor": 2
}
