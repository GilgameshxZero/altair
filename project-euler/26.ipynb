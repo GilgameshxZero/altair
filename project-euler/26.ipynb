{
 "cells": [
  {
   "cell_type": "code",
   "execution_count": 10,
   "metadata": {},
   "outputs": [
    {
     "name": "stdout",
     "output_type": "stream",
     "text": [
      "90 30 3 0\n"
     ]
    },
    {
     "data": {
      "text/plain": [
       "3"
      ]
     },
     "execution_count": 10,
     "metadata": {},
     "output_type": "execute_result"
    }
   ],
   "source": [
    "def F(C):\n",
    "    LHS = 10**C * (10**C - 1)\n",
    "    for i in range(8, 0, -1):\n",
    "        if LHS % i == 0:\n",
    "            RHS = LHS // i\n",
    "            XY = RHS // (10**C) + 1\n",
    "            Y = 10**C - (RHS % (10**C))\n",
    "            if Y == 10**C:\n",
    "                Y = 0\n",
    "                XY -= 1\n",
    "            X = XY - Y\n",
    "            if X > 0 and Y >= 0:\n",
    "                print(LHS, RHS, XY, Y)\n",
    "                return i\n",
    "\n",
    "F(1)"
   ]
  },
  {
   "cell_type": "code",
   "execution_count": 11,
   "metadata": {},
   "outputs": [
    {
     "data": {
      "text/plain": [
       "[1.0,\n",
       " 0.5,\n",
       " 0.3333333333333333,\n",
       " 0.25,\n",
       " 0.2,\n",
       " 0.16666666666666666,\n",
       " 0.14285714285714285,\n",
       " 0.125,\n",
       " 0.1111111111111111,\n",
       " 0.1,\n",
       " 0.09090909090909091,\n",
       " 0.08333333333333333,\n",
       " 0.07692307692307693,\n",
       " 0.07142857142857142,\n",
       " 0.06666666666666667,\n",
       " 0.0625,\n",
       " 0.058823529411764705,\n",
       " 0.05555555555555555,\n",
       " 0.05263157894736842,\n",
       " 0.05]"
      ]
     },
     "execution_count": 11,
     "metadata": {},
     "output_type": "execute_result"
    }
   ],
   "source": [
    "[1/i for i in range(1, 21)]"
   ]
  },
  {
   "cell_type": "code",
   "execution_count": null,
   "metadata": {},
   "outputs": [],
   "source": []
  }
 ],
 "metadata": {
  "kernelspec": {
   "display_name": ".venv",
   "language": "python",
   "name": "python3"
  },
  "language_info": {
   "codemirror_mode": {
    "name": "ipython",
    "version": 3
   },
   "file_extension": ".py",
   "mimetype": "text/x-python",
   "name": "python",
   "nbconvert_exporter": "python",
   "pygments_lexer": "ipython3",
   "version": "3.9.10"
  },
  "orig_nbformat": 4
 },
 "nbformat": 4,
 "nbformat_minor": 2
}
