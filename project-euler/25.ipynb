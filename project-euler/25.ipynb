{
 "cells": [
  {
   "cell_type": "code",
   "execution_count": 1,
   "metadata": {},
   "outputs": [
    {
     "data": {
      "text/plain": [
       "2.302585092994046"
      ]
     },
     "execution_count": 1,
     "metadata": {},
     "output_type": "execute_result"
    }
   ],
   "source": [
    "import math\n",
    "\n",
    "math.log(10)"
   ]
  },
  {
   "cell_type": "code",
   "execution_count": 2,
   "metadata": {},
   "outputs": [
    {
     "data": {
      "text/plain": [
       "1.0"
      ]
     },
     "execution_count": 2,
     "metadata": {},
     "output_type": "execute_result"
    }
   ],
   "source": [
    "math.log10(10)"
   ]
  },
  {
   "cell_type": "code",
   "execution_count": 10,
   "metadata": {},
   "outputs": [
    {
     "name": "stdout",
     "output_type": "stream",
     "text": [
      "[-0.14049736191803067, 0.0684902783319481, 0.2774779185819269, 0.4864655588319056, 0.6954531990818844, 0.9044408393318633, 1.1134284795818419, 1.3224161198318207, 1.5314037600817996, 1.7403914003317782]\n",
      "[0.7236067977499789, 1.170820393249937, 1.8944271909999162, 3.065247584249853, 4.959674775249771, 8.024922359499627, 12.984597134749395, 21.009519494249023, 33.994116628998434, 55.003636123247446]\n"
     ]
    }
   ],
   "source": [
    "LF = [(i + 1) * math.log10((1 + math.sqrt(5)) / 2) - math.log10(math.sqrt(5)) for i in range(10)]\n",
    "\n",
    "print(LF)\n",
    "F = [math.pow(10, LF[i]) for i in range(len(LF))]\n",
    "print(F)"
   ]
  },
  {
   "cell_type": "code",
   "execution_count": 16,
   "metadata": {},
   "outputs": [
    {
     "data": {
      "text/plain": [
       "[998.4024477524805,\n",
       " 998.6114353927305,\n",
       " 998.8204230329804,\n",
       " 999.0294106732305,\n",
       " 999.2383983134805]"
      ]
     },
     "execution_count": 16,
     "metadata": {},
     "output_type": "execute_result"
    }
   ],
   "source": [
    "LF = [(i + 1) * math.log10((1 + math.sqrt(5)) / 2) - math.log10(math.sqrt(5)) for i in range(4783)]\n",
    "\n",
    "LF[-5:]"
   ]
  },
  {
   "cell_type": "code",
   "execution_count": 15,
   "metadata": {},
   "outputs": [
    {
     "name": "stdout",
     "output_type": "stream",
     "text": [
      "4782\n"
     ]
    }
   ],
   "source": [
    "for i in range(len(LF)):\n",
    "    if LF[i] > 999:\n",
    "        print(i + 1)\n",
    "        break"
   ]
  },
  {
   "cell_type": "code",
   "execution_count": null,
   "metadata": {},
   "outputs": [],
   "source": []
  }
 ],
 "metadata": {
  "kernelspec": {
   "display_name": ".venv",
   "language": "python",
   "name": "python3"
  },
  "language_info": {
   "codemirror_mode": {
    "name": "ipython",
    "version": 3
   },
   "file_extension": ".py",
   "mimetype": "text/x-python",
   "name": "python",
   "nbconvert_exporter": "python",
   "pygments_lexer": "ipython3",
   "version": "3.9.10"
  },
  "orig_nbformat": 4
 },
 "nbformat": 4,
 "nbformat_minor": 2
}
